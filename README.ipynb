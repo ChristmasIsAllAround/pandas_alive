{
 "cells": [
  {
   "cell_type": "markdown",
   "metadata": {},
   "source": [
    "# Pandas_Alive\n",
    "\n",
    "Animated plotting extension for Pandas with Matplotlib\n",
    "\n",
    "[![Inline docs](http://inch-ci.org/github/dwyl/hapi-auth-jwt2.svg?branch=master)](https://jackmckew.github.io/pandas_alive/) ![Interrogate Coverage](badges/interrogate_badge.svg) [![Downloads](https://pepy.tech/badge/pandas-alive/month)](https://pepy.tech/project/pandas-alive/month) [![PyPI version shields.io](https://img.shields.io/pypi/v/pandas_alive.svg)](https://pypi.python.org/pypi/pandas_alive/) [![PyPI license](https://img.shields.io/pypi/l/pandas_alive.svg)](https://pypi.python.org/pypi/pandas_alive/) [![saythanks](https://img.shields.io/badge/say-thanks-ff69b4.svg)](https://www.buymeacoffee.com/jackmckew)\n",
    "\n",
    "**Pandas_Alive** is intended to provide a plotting backend for animated [matplotlib](https://matplotlib.org/) charts for [Pandas](https://pandas.pydata.org/) DataFrames, similar to the already [existing Visualization feature of Pandas](https://pandas.pydata.org/pandas-docs/stable/visualization.html).\n",
    "\n",
    "With **Pandas_Alive**, creating stunning, animated visualisations is as easy as calling:\n",
    "\n",
    "`df.plot_animated()`\n",
    "\n",
    "![Example Bar Chart](examples/example-barh-chart.gif)"
   ]
  },
  {
   "cell_type": "markdown",
   "metadata": {},
   "source": [
    "## Table of Contents\n",
    "<!-- START doctoc -->\n",
    "<!-- END doctoc -->"
   ]
  },
  {
   "cell_type": "markdown",
   "metadata": {},
   "source": [
    "## Installation\n",
    "\n",
    "Install with `pip install pandas_alive`\n",
    "\n",
    "## Usage\n",
    "\n",
    "As this package was inspired by [`bar_chart_race`](https://github.com/dexplo/bar_chart_race), the example data set is sourced from there.\n",
    "\n",
    "Must begin with a pandas DataFrame containing 'wide' data where:\n",
    "\n",
    "- Every row represents a single period of time\n",
    "- Each column holds the value for a particular category\n",
    "- The index contains the time component (optional)\n",
    "\n",
    "The data below is an example of properly formatted data. It shows total deaths from COVID-19 for the highest 20 countries by date.\n",
    "\n",
    "![Example Data Table](https://raw.githubusercontent.com/dexplo/bar_chart_race/master/docs/images/wide_data.png)\n",
    "\n",
    "To produce the above visualisation:\n",
    "\n",
    "- Check [Requirements](#requirements) first to ensure you have the tooling installed!\n",
    "- Call `plot_animated()` on the DataFrame\n",
    "    - Either specify a file name to write to with `df.plot_animated(filename='example.mp4')` or use `df.plot_animated().get_html5_video` to return a HTML5 video\n",
    "- Done!"
   ]
  },
  {
   "cell_type": "code",
   "execution_count": 1,
   "metadata": {},
   "outputs": [
    {
     "name": "stdout",
     "output_type": "stream",
     "text": [
      "Generating BarChartRace, plotting ['Belgium', 'Brazil', 'Canada', 'China', 'France', 'Germany', 'India', 'Indonesia', 'Iran', 'Ireland', 'Italy', 'Mexico', 'Netherlands', 'Portugal', 'Spain', 'Sweden', 'Switzerland', 'Turkey', 'USA', 'United Kingdom']\n"
     ]
    },
    {
     "name": "stderr",
     "output_type": "stream",
     "text": [
      "D:\\GitHub\\pandas_alive\\pandas_alive\\charts.py:68: UserWarning: Plotting too many bars may result in undesirable output, use `n_visible=15 to limit number of bars\n",
      "  warnings.warn(\n"
     ]
    },
    {
     "data": {
      "text/plain": [
       "BarChartRace(df=                     Belgium  Brazil  Canada   China   France  Germany  India  \\\n",
       "date                                                                            \n",
       "2020-02-26 00:00:00      NaN     NaN     NaN  2717.0      2.0      NaN    NaN   \n",
       "2020-02-26 02:24:00      NaN     NaN     NaN  2719.9      2.0      NaN    NaN   \n",
       "2020-02-26 04:48:00      NaN     NaN     NaN  2722.8      2.0      NaN    NaN   \n",
       "2020-02-26 07:12:00      NaN     NaN     NaN  2725.7      2.0      NaN    NaN   \n",
       "2020-02-26 09:36:00      NaN     NaN     NaN  2728.6      2.0      NaN    NaN   \n",
       "...                      ...     ...     ...     ...      ...      ...    ...   \n",
       "2020-04-21 14:24:00   6156.4  2840.0  2008.2  4636.0  21155.4   5180.6  666.6   \n",
       "2020-04-21 16:48:00   6182.8  2856.5  2024.9  4636.0  21209.8   5205.2  670.2   \n",
       "2020-04-21 19:12:00   6209.2  2873.0  2041.6  4636.0  21264.2   5229.8  673.8   \n",
       "2020-04-21 21:36:00   6235.6  2889.5  2058.3  4636.0  21318.6   5254.4  677.4   \n",
       "2020-04-22 00:00:00   6262.0  2906.0  2075.0  4636.0  21373.0   5279.0  681.0   \n",
       "\n",
       "                     Indonesia    Iran  Ireland    Italy  Mexico  Netherlands  \\\n",
       "date                                                                            \n",
       "2020-02-26 00:00:00        NaN    19.0      NaN     12.0     NaN          NaN   \n",
       "2020-02-26 02:24:00        NaN    19.7      NaN     12.5     NaN          NaN   \n",
       "2020-02-26 04:48:00        NaN    20.4      NaN     13.0     NaN          NaN   \n",
       "2020-02-26 07:12:00        NaN    21.1      NaN     13.5     NaN          NaN   \n",
       "2020-02-26 09:36:00        NaN    21.8      NaN     14.0     NaN          NaN   \n",
       "...                        ...     ...      ...      ...     ...          ...   \n",
       "2020-04-21 14:24:00      627.4  5353.4    753.4  24910.2   799.0       4012.4   \n",
       "2020-04-21 16:48:00      629.3  5362.8    757.3  24953.9   813.5       4026.3   \n",
       "2020-04-21 19:12:00      631.2  5372.2    761.2  24997.6   828.0       4040.2   \n",
       "2020-04-21 21:36:00      633.1  5381.6    765.1  25041.3   842.5       4054.1   \n",
       "2020-04-22 00:00:00      635.0  5391.0    769.0  25085.0   857.0       4068.0   \n",
       "\n",
       "                     Portugal    Spain  Sweden  Switzerland  Turkey      USA  \\\n",
       "date                                                                           \n",
       "2020-02-26 00:00:00       NaN      NaN     NaN          NaN     NaN      NaN   \n",
       "2020-02-26 02:24:00       NaN      NaN     NaN          NaN     NaN      NaN   \n",
       "2020-02-26 04:48:00       NaN      NaN     NaN          NaN     NaN      NaN   \n",
       "2020-02-26 07:12:00       NaN      NaN     NaN          NaN     NaN      NaN   \n",
       "2020-02-26 09:36:00       NaN      NaN     NaN          NaN     NaN      NaN   \n",
       "...                       ...      ...     ...          ...     ...      ...   \n",
       "2020-04-21 14:24:00     775.8  21543.0  1868.2       1496.6  2329.2  45755.6   \n",
       "2020-04-21 16:48:00     778.1  21586.5  1885.4       1499.7  2340.9  45973.7   \n",
       "2020-04-21 19:12:00     780.4  21630.0  1902.6       1502.8  2352.6  46191.8   \n",
       "2020-04-21 21:36:00     782.7  21673.5  1919.8       1505.9  2364.3  46409.9   \n",
       "2020-04-22 00:00:00     785.0  21717.0  1937.0       1509.0  2376.0  46628.0   \n",
       "\n",
       "                     United Kingdom  \n",
       "date                                 \n",
       "2020-02-26 00:00:00             NaN  \n",
       "2020-02-26 02:24:00             NaN  \n",
       "2020-02-26 04:48:00             NaN  \n",
       "2020-02-26 07:12:00             NaN  \n",
       "2020-02-26 09:36:00             NaN  \n",
       "...                             ...  \n",
       "2020-04-21 14:24:00         17841.8  \n",
       "2020-04-21 16:48:00         17919.1  \n",
       "2020-04-21 19:12:00         17996.4  \n",
       "2020-04-21 21:36:00         18073.7  \n",
       "2020-04-22 00:00:00         18151.0  \n",
       "\n",
       "[561 rows x 20 columns], interpolate_period=True, steps_per_period=10, period_length=500, period_fmt='%d/%m/%Y', figsize=array([7.18229167, 3.5       ]), title=None, fig=<Figure size 1034.25x504 with 1 Axes>, cmap='dark24', tick_label_size=7, period_label=True, period_summary_func=None, fixed_max=False, dpi=144, writer=None, enable_progress_bar=False, kwargs={}, orientation='h', sort='desc', label_bars=True, bar_label_size=7, n_visible=20, fixed_order=False, perpendicular_bar_func=None)"
      ]
     },
     "execution_count": 1,
     "metadata": {},
     "output_type": "execute_result"
    }
   ],
   "source": [
    "import pandas_alive\n",
    "\n",
    "covid_df = pandas_alive.load_dataset()\n",
    "\n",
    "covid_df.plot_animated(filename='examples/example-barh-chart.gif')"
   ]
  },
  {
   "cell_type": "markdown",
   "metadata": {},
   "source": [
    "### Currently Supported Chart Types\n",
    "\n",
    "#### Horizontal Bar Chart Races"
   ]
  },
  {
   "cell_type": "code",
   "execution_count": 2,
   "metadata": {},
   "outputs": [
    {
     "name": "stdout",
     "output_type": "stream",
     "text": [
      "Generating BarChartRace, plotting ['  Black coal', '  Brown coal', '  Natural gas', '  Oil products', '  Other a', '  Biomass', '  Wind', '  Hydro', 'Large-scale solar PV', '  Small-scale solar PV', '  Geothermal']\n"
     ]
    },
    {
     "data": {
      "text/plain": [
       "BarChartRace(df=                       Black coal    Brown coal    Natural gas  \\\n",
       "index                                                            \n",
       "1989-01-01 00:00:00      87573.00     33594.000      14359.000   \n",
       "1989-02-06 12:36:00      87766.80     33839.400      14000.300   \n",
       "1989-03-15 01:12:00      87960.60     34084.800      13641.600   \n",
       "1989-04-20 13:48:00      88154.40     34330.200      13282.900   \n",
       "1989-05-27 02:24:00      88348.20     34575.600      12924.200   \n",
       "...                           ...           ...            ...   \n",
       "2016-08-07 21:36:00     120264.48     39063.304      52487.534   \n",
       "2016-09-13 10:12:00     120596.51     38314.228      52825.498   \n",
       "2016-10-19 22:48:00     120928.54     37565.152      53163.462   \n",
       "2016-11-25 11:24:00     121260.57     36816.076      53501.426   \n",
       "2017-01-01 00:00:00     121592.60     36067.000      53839.390   \n",
       "\n",
       "                       Oil products    Other a    Biomass       Wind  \\\n",
       "index                                                                  \n",
       "1989-01-01 00:00:00        3552.000        0.0    750.000      0.000   \n",
       "1989-02-06 12:36:00        3536.400        0.0    751.900      0.000   \n",
       "1989-03-15 01:12:00        3520.800        0.0    753.800      0.000   \n",
       "1989-04-20 13:48:00        3505.200        0.0    755.700      0.000   \n",
       "1989-05-27 02:24:00        3489.600        0.0    757.600      0.000   \n",
       "...                             ...        ...        ...        ...   \n",
       "2016-08-07 21:36:00        5266.596        0.0   3520.674  14032.448   \n",
       "2016-09-13 10:12:00        5265.597        0.0   3524.028  14271.691   \n",
       "2016-10-19 22:48:00        5264.598        0.0   3527.382  14510.934   \n",
       "2016-11-25 11:24:00        5263.599        0.0   3530.736  14750.177   \n",
       "2017-01-01 00:00:00        5262.600        0.0   3534.090  14989.420   \n",
       "\n",
       "                         Hydro  Large-scale solar PV    Small-scale solar PV  \\\n",
       "index                                                                          \n",
       "1989-01-01 00:00:00  14880.000                 0.000                    0.00   \n",
       "1989-02-06 12:36:00  15002.300                 0.000                    0.00   \n",
       "1989-03-15 01:12:00  15124.600                 0.000                    0.00   \n",
       "1989-04-20 13:48:00  15246.900                 0.000                    0.00   \n",
       "1989-05-27 02:24:00  15369.200                 0.000                    0.00   \n",
       "...                        ...                   ...                     ...   \n",
       "2016-08-07 21:36:00  16017.248               873.508                 8313.12   \n",
       "2016-09-13 10:12:00  15972.641               907.026                 8465.43   \n",
       "2016-10-19 22:48:00  15928.034               940.544                 8617.74   \n",
       "2016-11-25 11:24:00  15883.427               974.062                 8770.05   \n",
       "2017-01-01 00:00:00  15838.820              1007.580                 8922.36   \n",
       "\n",
       "                       Geothermal  \n",
       "index                              \n",
       "1989-01-01 00:00:00          0.00  \n",
       "1989-02-06 12:36:00          0.00  \n",
       "1989-03-15 01:12:00          0.00  \n",
       "1989-04-20 13:48:00          0.00  \n",
       "1989-05-27 02:24:00          0.00  \n",
       "...                           ...  \n",
       "2016-08-07 21:36:00          0.20  \n",
       "2016-09-13 10:12:00          0.15  \n",
       "2016-10-19 22:48:00          0.10  \n",
       "2016-11-25 11:24:00          0.05  \n",
       "2017-01-01 00:00:00          0.00  \n",
       "\n",
       "[281 rows x 11 columns], interpolate_period=True, steps_per_period=10, period_length=500, period_fmt='%Y', figsize=array([7.45486111, 3.5       ]), title='Australian Electricity Generation Sources 1980-2018', fig=<Figure size 1073.5x504 with 1 Axes>, cmap='dark24', tick_label_size=7, period_label=True, period_summary_func=None, fixed_max=False, dpi=144, writer=None, enable_progress_bar=False, kwargs={}, orientation='h', sort='desc', label_bars=True, bar_label_size=7, n_visible=11, fixed_order=False, perpendicular_bar_func=None)"
      ]
     },
     "execution_count": 2,
     "metadata": {},
     "output_type": "execute_result"
    }
   ],
   "source": [
    "import pandas as pd\n",
    "import pandas_alive\n",
    "\n",
    "elec_df = pd.read_csv(\"data/Aus_Elec_Gen_1980_2018.csv\",index_col=0,parse_dates=[0],thousands=',')\n",
    "\n",
    "elec_df.fillna(0).plot_animated('examples/example-electricity-generated-australia.gif',period_fmt=\"%Y\",title='Australian Electricity Generation Sources 1980-2018')"
   ]
  },
  {
   "cell_type": "markdown",
   "metadata": {},
   "source": [
    "![Electricity Example Line Chart](examples/example-electricity-generated-australia.gif)"
   ]
  },
  {
   "cell_type": "code",
   "execution_count": 3,
   "metadata": {},
   "outputs": [
    {
     "name": "stdout",
     "output_type": "stream",
     "text": [
      "Generating BarChartRace, plotting ['Belgium', 'Brazil', 'Canada', 'China', 'France', 'Germany', 'India', 'Indonesia', 'Iran', 'Ireland', 'Italy', 'Mexico', 'Netherlands', 'Portugal', 'Spain', 'Sweden', 'Switzerland', 'Turkey', 'USA', 'United Kingdom']\n"
     ]
    },
    {
     "name": "stderr",
     "output_type": "stream",
     "text": [
      "D:\\GitHub\\pandas_alive\\pandas_alive\\charts.py:68: UserWarning: Plotting too many bars may result in undesirable output, use `n_visible=15 to limit number of bars\n",
      "  warnings.warn(\n"
     ]
    },
    {
     "data": {
      "text/plain": [
       "BarChartRace(df=                     Belgium  Brazil  Canada   China   France  Germany  India  \\\n",
       "date                                                                            \n",
       "2020-02-26 00:00:00      NaN     NaN     NaN  2717.0      2.0      NaN    NaN   \n",
       "2020-02-26 02:24:00      NaN     NaN     NaN  2719.9      2.0      NaN    NaN   \n",
       "2020-02-26 04:48:00      NaN     NaN     NaN  2722.8      2.0      NaN    NaN   \n",
       "2020-02-26 07:12:00      NaN     NaN     NaN  2725.7      2.0      NaN    NaN   \n",
       "2020-02-26 09:36:00      NaN     NaN     NaN  2728.6      2.0      NaN    NaN   \n",
       "...                      ...     ...     ...     ...      ...      ...    ...   \n",
       "2020-04-21 14:24:00   6156.4  2840.0  2008.2  4636.0  21155.4   5180.6  666.6   \n",
       "2020-04-21 16:48:00   6182.8  2856.5  2024.9  4636.0  21209.8   5205.2  670.2   \n",
       "2020-04-21 19:12:00   6209.2  2873.0  2041.6  4636.0  21264.2   5229.8  673.8   \n",
       "2020-04-21 21:36:00   6235.6  2889.5  2058.3  4636.0  21318.6   5254.4  677.4   \n",
       "2020-04-22 00:00:00   6262.0  2906.0  2075.0  4636.0  21373.0   5279.0  681.0   \n",
       "\n",
       "                     Indonesia    Iran  Ireland    Italy  Mexico  Netherlands  \\\n",
       "date                                                                            \n",
       "2020-02-26 00:00:00        NaN    19.0      NaN     12.0     NaN          NaN   \n",
       "2020-02-26 02:24:00        NaN    19.7      NaN     12.5     NaN          NaN   \n",
       "2020-02-26 04:48:00        NaN    20.4      NaN     13.0     NaN          NaN   \n",
       "2020-02-26 07:12:00        NaN    21.1      NaN     13.5     NaN          NaN   \n",
       "2020-02-26 09:36:00        NaN    21.8      NaN     14.0     NaN          NaN   \n",
       "...                        ...     ...      ...      ...     ...          ...   \n",
       "2020-04-21 14:24:00      627.4  5353.4    753.4  24910.2   799.0       4012.4   \n",
       "2020-04-21 16:48:00      629.3  5362.8    757.3  24953.9   813.5       4026.3   \n",
       "2020-04-21 19:12:00      631.2  5372.2    761.2  24997.6   828.0       4040.2   \n",
       "2020-04-21 21:36:00      633.1  5381.6    765.1  25041.3   842.5       4054.1   \n",
       "2020-04-22 00:00:00      635.0  5391.0    769.0  25085.0   857.0       4068.0   \n",
       "\n",
       "                     Portugal    Spain  Sweden  Switzerland  Turkey      USA  \\\n",
       "date                                                                           \n",
       "2020-02-26 00:00:00       NaN      NaN     NaN          NaN     NaN      NaN   \n",
       "2020-02-26 02:24:00       NaN      NaN     NaN          NaN     NaN      NaN   \n",
       "2020-02-26 04:48:00       NaN      NaN     NaN          NaN     NaN      NaN   \n",
       "2020-02-26 07:12:00       NaN      NaN     NaN          NaN     NaN      NaN   \n",
       "2020-02-26 09:36:00       NaN      NaN     NaN          NaN     NaN      NaN   \n",
       "...                       ...      ...     ...          ...     ...      ...   \n",
       "2020-04-21 14:24:00     775.8  21543.0  1868.2       1496.6  2329.2  45755.6   \n",
       "2020-04-21 16:48:00     778.1  21586.5  1885.4       1499.7  2340.9  45973.7   \n",
       "2020-04-21 19:12:00     780.4  21630.0  1902.6       1502.8  2352.6  46191.8   \n",
       "2020-04-21 21:36:00     782.7  21673.5  1919.8       1505.9  2364.3  46409.9   \n",
       "2020-04-22 00:00:00     785.0  21717.0  1937.0       1509.0  2376.0  46628.0   \n",
       "\n",
       "                     United Kingdom  \n",
       "date                                 \n",
       "2020-02-26 00:00:00             NaN  \n",
       "2020-02-26 02:24:00             NaN  \n",
       "2020-02-26 04:48:00             NaN  \n",
       "2020-02-26 07:12:00             NaN  \n",
       "2020-02-26 09:36:00             NaN  \n",
       "...                             ...  \n",
       "2020-04-21 14:24:00         17841.8  \n",
       "2020-04-21 16:48:00         17919.1  \n",
       "2020-04-21 19:12:00         17996.4  \n",
       "2020-04-21 21:36:00         18073.7  \n",
       "2020-04-22 00:00:00         18151.0  \n",
       "\n",
       "[561 rows x 20 columns], interpolate_period=True, steps_per_period=10, period_length=500, period_fmt='%d/%m/%Y', figsize=array([7.18229167, 3.5       ]), title=None, fig=<Figure size 1034.25x504 with 1 Axes>, cmap='dark24', tick_label_size=7, period_label=True, period_summary_func=<function current_total at 0x00000206F0DD3B80>, fixed_max=False, dpi=144, writer=None, enable_progress_bar=False, kwargs={}, orientation='h', sort='desc', label_bars=True, bar_label_size=7, n_visible=20, fixed_order=False, perpendicular_bar_func=None)"
      ]
     },
     "execution_count": 3,
     "metadata": {},
     "output_type": "execute_result"
    }
   ],
   "source": [
    "import pandas_alive\n",
    "\n",
    "covid_df = pandas_alive.load_dataset()\n",
    "\n",
    "def current_total(values):\n",
    "    total = values.sum()\n",
    "    s = f'Total : {int(total)}'\n",
    "    return {'x': .85, 'y': .2, 's': s, 'ha': 'right', 'size': 11}\n",
    "\n",
    "covid_df.plot_animated(filename='examples/summary-func-example.gif',period_summary_func=current_total)"
   ]
  },
  {
   "cell_type": "markdown",
   "metadata": {},
   "source": [
    "![Summary Func Example](examples/summary-func-example.gif)"
   ]
  },
  {
   "cell_type": "code",
   "execution_count": 4,
   "metadata": {},
   "outputs": [
    {
     "name": "stdout",
     "output_type": "stream",
     "text": [
      "Generating BarChartRace, plotting ['  Black coal', '  Natural gas', '  Brown coal', '  Hydro', '  Wind', '  Small-scale solar PV', '  Oil products', '  Biomass', 'Large-scale solar PV', '  Geothermal', '  Other a']\n"
     ]
    },
    {
     "data": {
      "text/plain": [
       "BarChartRace(df=                       Black coal    Natural gas    Brown coal      Hydro  \\\n",
       "index                                                                       \n",
       "1989-01-01 00:00:00      87573.00      14359.000     33594.000  14880.000   \n",
       "1989-02-06 12:36:00      87766.80      14000.300     33839.400  15002.300   \n",
       "1989-03-15 01:12:00      87960.60      13641.600     34084.800  15124.600   \n",
       "1989-04-20 13:48:00      88154.40      13282.900     34330.200  15246.900   \n",
       "1989-05-27 02:24:00      88348.20      12924.200     34575.600  15369.200   \n",
       "...                           ...            ...           ...        ...   \n",
       "2016-08-07 21:36:00     120264.48      52487.534     39063.304  16017.248   \n",
       "2016-09-13 10:12:00     120596.51      52825.498     38314.228  15972.641   \n",
       "2016-10-19 22:48:00     120928.54      53163.462     37565.152  15928.034   \n",
       "2016-11-25 11:24:00     121260.57      53501.426     36816.076  15883.427   \n",
       "2017-01-01 00:00:00     121592.60      53839.390     36067.000  15838.820   \n",
       "\n",
       "                          Wind    Small-scale solar PV    Oil products  \\\n",
       "index                                                                    \n",
       "1989-01-01 00:00:00      0.000                    0.00        3552.000   \n",
       "1989-02-06 12:36:00      0.000                    0.00        3536.400   \n",
       "1989-03-15 01:12:00      0.000                    0.00        3520.800   \n",
       "1989-04-20 13:48:00      0.000                    0.00        3505.200   \n",
       "1989-05-27 02:24:00      0.000                    0.00        3489.600   \n",
       "...                        ...                     ...             ...   \n",
       "2016-08-07 21:36:00  14032.448                 8313.12        5266.596   \n",
       "2016-09-13 10:12:00  14271.691                 8465.43        5265.597   \n",
       "2016-10-19 22:48:00  14510.934                 8617.74        5264.598   \n",
       "2016-11-25 11:24:00  14750.177                 8770.05        5263.599   \n",
       "2017-01-01 00:00:00  14989.420                 8922.36        5262.600   \n",
       "\n",
       "                       Biomass  Large-scale solar PV    Geothermal    Other a  \n",
       "index                                                                          \n",
       "1989-01-01 00:00:00    750.000                 0.000          0.00        0.0  \n",
       "1989-02-06 12:36:00    751.900                 0.000          0.00        0.0  \n",
       "1989-03-15 01:12:00    753.800                 0.000          0.00        0.0  \n",
       "1989-04-20 13:48:00    755.700                 0.000          0.00        0.0  \n",
       "1989-05-27 02:24:00    757.600                 0.000          0.00        0.0  \n",
       "...                        ...                   ...           ...        ...  \n",
       "2016-08-07 21:36:00   3520.674               873.508          0.20        0.0  \n",
       "2016-09-13 10:12:00   3524.028               907.026          0.15        0.0  \n",
       "2016-10-19 22:48:00   3527.382               940.544          0.10        0.0  \n",
       "2016-11-25 11:24:00   3530.736               974.062          0.05        0.0  \n",
       "2017-01-01 00:00:00   3534.090              1007.580          0.00        0.0  \n",
       "\n",
       "[281 rows x 11 columns], interpolate_period=True, steps_per_period=10, period_length=500, period_fmt='%Y', figsize=array([7.45486111, 3.5       ]), title='Australian Electricity Generation Sources 1980-2018', fig=<Figure size 1073.5x504 with 1 Axes>, cmap='dark24', tick_label_size=7, period_label=True, period_summary_func=None, fixed_max=True, dpi=144, writer=None, enable_progress_bar=False, kwargs={}, orientation='h', sort='desc', label_bars=True, bar_label_size=7, n_visible=11, fixed_order=True, perpendicular_bar_func=None)"
      ]
     },
     "execution_count": 4,
     "metadata": {},
     "output_type": "execute_result"
    }
   ],
   "source": [
    "import pandas as pd\n",
    "import pandas_alive\n",
    "\n",
    "elec_df = pd.read_csv(\"data/Aus_Elec_Gen_1980_2018.csv\",index_col=0,parse_dates=[0],thousands=',')\n",
    "\n",
    "elec_df.fillna(0).plot_animated('examples/fixed-example.gif',period_fmt=\"%Y\",title='Australian Electricity Generation Sources 1980-2018',fixed_max=True,fixed_order=True)"
   ]
  },
  {
   "cell_type": "markdown",
   "metadata": {},
   "source": [
    "![Fixed Example](examples/fixed-example.gif)"
   ]
  },
  {
   "cell_type": "code",
   "execution_count": 5,
   "metadata": {},
   "outputs": [
    {
     "name": "stdout",
     "output_type": "stream",
     "text": [
      "Generating BarChartRace, plotting ['Belgium', 'Brazil', 'Canada', 'China', 'France', 'Germany', 'India', 'Indonesia', 'Iran', 'Ireland', 'Italy', 'Mexico', 'Netherlands', 'Portugal', 'Spain', 'Sweden', 'Switzerland', 'Turkey', 'USA', 'United Kingdom']\n"
     ]
    },
    {
     "name": "stderr",
     "output_type": "stream",
     "text": [
      "D:\\GitHub\\pandas_alive\\pandas_alive\\charts.py:68: UserWarning: Plotting too many bars may result in undesirable output, use `n_visible=15 to limit number of bars\n",
      "  warnings.warn(\n"
     ]
    },
    {
     "data": {
      "text/plain": [
       "BarChartRace(df=                     Belgium  Brazil  Canada   China   France  Germany  India  \\\n",
       "date                                                                            \n",
       "2020-02-26 00:00:00      NaN     NaN     NaN  2717.0      2.0      NaN    NaN   \n",
       "2020-02-26 02:24:00      NaN     NaN     NaN  2719.9      2.0      NaN    NaN   \n",
       "2020-02-26 04:48:00      NaN     NaN     NaN  2722.8      2.0      NaN    NaN   \n",
       "2020-02-26 07:12:00      NaN     NaN     NaN  2725.7      2.0      NaN    NaN   \n",
       "2020-02-26 09:36:00      NaN     NaN     NaN  2728.6      2.0      NaN    NaN   \n",
       "...                      ...     ...     ...     ...      ...      ...    ...   \n",
       "2020-04-21 14:24:00   6156.4  2840.0  2008.2  4636.0  21155.4   5180.6  666.6   \n",
       "2020-04-21 16:48:00   6182.8  2856.5  2024.9  4636.0  21209.8   5205.2  670.2   \n",
       "2020-04-21 19:12:00   6209.2  2873.0  2041.6  4636.0  21264.2   5229.8  673.8   \n",
       "2020-04-21 21:36:00   6235.6  2889.5  2058.3  4636.0  21318.6   5254.4  677.4   \n",
       "2020-04-22 00:00:00   6262.0  2906.0  2075.0  4636.0  21373.0   5279.0  681.0   \n",
       "\n",
       "                     Indonesia    Iran  Ireland    Italy  Mexico  Netherlands  \\\n",
       "date                                                                            \n",
       "2020-02-26 00:00:00        NaN    19.0      NaN     12.0     NaN          NaN   \n",
       "2020-02-26 02:24:00        NaN    19.7      NaN     12.5     NaN          NaN   \n",
       "2020-02-26 04:48:00        NaN    20.4      NaN     13.0     NaN          NaN   \n",
       "2020-02-26 07:12:00        NaN    21.1      NaN     13.5     NaN          NaN   \n",
       "2020-02-26 09:36:00        NaN    21.8      NaN     14.0     NaN          NaN   \n",
       "...                        ...     ...      ...      ...     ...          ...   \n",
       "2020-04-21 14:24:00      627.4  5353.4    753.4  24910.2   799.0       4012.4   \n",
       "2020-04-21 16:48:00      629.3  5362.8    757.3  24953.9   813.5       4026.3   \n",
       "2020-04-21 19:12:00      631.2  5372.2    761.2  24997.6   828.0       4040.2   \n",
       "2020-04-21 21:36:00      633.1  5381.6    765.1  25041.3   842.5       4054.1   \n",
       "2020-04-22 00:00:00      635.0  5391.0    769.0  25085.0   857.0       4068.0   \n",
       "\n",
       "                     Portugal    Spain  Sweden  Switzerland  Turkey      USA  \\\n",
       "date                                                                           \n",
       "2020-02-26 00:00:00       NaN      NaN     NaN          NaN     NaN      NaN   \n",
       "2020-02-26 02:24:00       NaN      NaN     NaN          NaN     NaN      NaN   \n",
       "2020-02-26 04:48:00       NaN      NaN     NaN          NaN     NaN      NaN   \n",
       "2020-02-26 07:12:00       NaN      NaN     NaN          NaN     NaN      NaN   \n",
       "2020-02-26 09:36:00       NaN      NaN     NaN          NaN     NaN      NaN   \n",
       "...                       ...      ...     ...          ...     ...      ...   \n",
       "2020-04-21 14:24:00     775.8  21543.0  1868.2       1496.6  2329.2  45755.6   \n",
       "2020-04-21 16:48:00     778.1  21586.5  1885.4       1499.7  2340.9  45973.7   \n",
       "2020-04-21 19:12:00     780.4  21630.0  1902.6       1502.8  2352.6  46191.8   \n",
       "2020-04-21 21:36:00     782.7  21673.5  1919.8       1505.9  2364.3  46409.9   \n",
       "2020-04-22 00:00:00     785.0  21717.0  1937.0       1509.0  2376.0  46628.0   \n",
       "\n",
       "                     United Kingdom  \n",
       "date                                 \n",
       "2020-02-26 00:00:00             NaN  \n",
       "2020-02-26 02:24:00             NaN  \n",
       "2020-02-26 04:48:00             NaN  \n",
       "2020-02-26 07:12:00             NaN  \n",
       "2020-02-26 09:36:00             NaN  \n",
       "...                             ...  \n",
       "2020-04-21 14:24:00         17841.8  \n",
       "2020-04-21 16:48:00         17919.1  \n",
       "2020-04-21 19:12:00         17996.4  \n",
       "2020-04-21 21:36:00         18073.7  \n",
       "2020-04-22 00:00:00         18151.0  \n",
       "\n",
       "[561 rows x 20 columns], interpolate_period=True, steps_per_period=10, period_length=500, period_fmt='%d/%m/%Y', figsize=array([7.18229167, 3.5       ]), title=None, fig=<Figure size 1034.25x504 with 1 Axes>, cmap='dark24', tick_label_size=7, period_label=True, period_summary_func=None, fixed_max=False, dpi=144, writer=None, enable_progress_bar=False, kwargs={}, orientation='h', sort='desc', label_bars=True, bar_label_size=7, n_visible=20, fixed_order=False, perpendicular_bar_func='mean')"
      ]
     },
     "execution_count": 5,
     "metadata": {},
     "output_type": "execute_result"
    }
   ],
   "source": [
    "import pandas_alive\n",
    "\n",
    "covid_df = pandas_alive.load_dataset()\n",
    "\n",
    "covid_df.plot_animated(filename='examples/perpendicular-example.gif',perpendicular_bar_func='mean')"
   ]
  },
  {
   "cell_type": "markdown",
   "metadata": {},
   "source": [
    "![Perpendicular Example](examples/perpendicular-example.gif)"
   ]
  },
  {
   "cell_type": "markdown",
   "metadata": {},
   "source": [
    "#### Vertical Bar Chart Races"
   ]
  },
  {
   "cell_type": "code",
   "execution_count": 6,
   "metadata": {},
   "outputs": [
    {
     "name": "stdout",
     "output_type": "stream",
     "text": [
      "Generating BarChartRace, plotting ['Belgium', 'Brazil', 'Canada', 'China', 'France', 'Germany', 'India', 'Indonesia', 'Iran', 'Ireland', 'Italy', 'Mexico', 'Netherlands', 'Portugal', 'Spain', 'Sweden', 'Switzerland', 'Turkey', 'USA', 'United Kingdom']\n"
     ]
    },
    {
     "name": "stderr",
     "output_type": "stream",
     "text": [
      "D:\\GitHub\\pandas_alive\\pandas_alive\\charts.py:68: UserWarning: Plotting too many bars may result in undesirable output, use `n_visible=15 to limit number of bars\n",
      "  warnings.warn(\n"
     ]
    },
    {
     "data": {
      "text/plain": [
       "BarChartRace(df=                     Belgium  Brazil  Canada   China   France  Germany  India  \\\n",
       "date                                                                            \n",
       "2020-02-26 00:00:00      NaN     NaN     NaN  2717.0      2.0      NaN    NaN   \n",
       "2020-02-26 02:24:00      NaN     NaN     NaN  2719.9      2.0      NaN    NaN   \n",
       "2020-02-26 04:48:00      NaN     NaN     NaN  2722.8      2.0      NaN    NaN   \n",
       "2020-02-26 07:12:00      NaN     NaN     NaN  2725.7      2.0      NaN    NaN   \n",
       "2020-02-26 09:36:00      NaN     NaN     NaN  2728.6      2.0      NaN    NaN   \n",
       "...                      ...     ...     ...     ...      ...      ...    ...   \n",
       "2020-04-21 14:24:00   6156.4  2840.0  2008.2  4636.0  21155.4   5180.6  666.6   \n",
       "2020-04-21 16:48:00   6182.8  2856.5  2024.9  4636.0  21209.8   5205.2  670.2   \n",
       "2020-04-21 19:12:00   6209.2  2873.0  2041.6  4636.0  21264.2   5229.8  673.8   \n",
       "2020-04-21 21:36:00   6235.6  2889.5  2058.3  4636.0  21318.6   5254.4  677.4   \n",
       "2020-04-22 00:00:00   6262.0  2906.0  2075.0  4636.0  21373.0   5279.0  681.0   \n",
       "\n",
       "                     Indonesia    Iran  Ireland    Italy  Mexico  Netherlands  \\\n",
       "date                                                                            \n",
       "2020-02-26 00:00:00        NaN    19.0      NaN     12.0     NaN          NaN   \n",
       "2020-02-26 02:24:00        NaN    19.7      NaN     12.5     NaN          NaN   \n",
       "2020-02-26 04:48:00        NaN    20.4      NaN     13.0     NaN          NaN   \n",
       "2020-02-26 07:12:00        NaN    21.1      NaN     13.5     NaN          NaN   \n",
       "2020-02-26 09:36:00        NaN    21.8      NaN     14.0     NaN          NaN   \n",
       "...                        ...     ...      ...      ...     ...          ...   \n",
       "2020-04-21 14:24:00      627.4  5353.4    753.4  24910.2   799.0       4012.4   \n",
       "2020-04-21 16:48:00      629.3  5362.8    757.3  24953.9   813.5       4026.3   \n",
       "2020-04-21 19:12:00      631.2  5372.2    761.2  24997.6   828.0       4040.2   \n",
       "2020-04-21 21:36:00      633.1  5381.6    765.1  25041.3   842.5       4054.1   \n",
       "2020-04-22 00:00:00      635.0  5391.0    769.0  25085.0   857.0       4068.0   \n",
       "\n",
       "                     Portugal    Spain  Sweden  Switzerland  Turkey      USA  \\\n",
       "date                                                                           \n",
       "2020-02-26 00:00:00       NaN      NaN     NaN          NaN     NaN      NaN   \n",
       "2020-02-26 02:24:00       NaN      NaN     NaN          NaN     NaN      NaN   \n",
       "2020-02-26 04:48:00       NaN      NaN     NaN          NaN     NaN      NaN   \n",
       "2020-02-26 07:12:00       NaN      NaN     NaN          NaN     NaN      NaN   \n",
       "2020-02-26 09:36:00       NaN      NaN     NaN          NaN     NaN      NaN   \n",
       "...                       ...      ...     ...          ...     ...      ...   \n",
       "2020-04-21 14:24:00     775.8  21543.0  1868.2       1496.6  2329.2  45755.6   \n",
       "2020-04-21 16:48:00     778.1  21586.5  1885.4       1499.7  2340.9  45973.7   \n",
       "2020-04-21 19:12:00     780.4  21630.0  1902.6       1502.8  2352.6  46191.8   \n",
       "2020-04-21 21:36:00     782.7  21673.5  1919.8       1505.9  2364.3  46409.9   \n",
       "2020-04-22 00:00:00     785.0  21717.0  1937.0       1509.0  2376.0  46628.0   \n",
       "\n",
       "                     United Kingdom  \n",
       "date                                 \n",
       "2020-02-26 00:00:00             NaN  \n",
       "2020-02-26 02:24:00             NaN  \n",
       "2020-02-26 04:48:00             NaN  \n",
       "2020-02-26 07:12:00             NaN  \n",
       "2020-02-26 09:36:00             NaN  \n",
       "...                             ...  \n",
       "2020-04-21 14:24:00         17841.8  \n",
       "2020-04-21 16:48:00         17919.1  \n",
       "2020-04-21 19:12:00         17996.4  \n",
       "2020-04-21 21:36:00         18073.7  \n",
       "2020-04-22 00:00:00         18151.0  \n",
       "\n",
       "[561 rows x 20 columns], interpolate_period=True, steps_per_period=10, period_length=500, period_fmt='%d/%m/%Y', figsize=array([6.85416667, 3.84114583]), title=None, fig=<Figure size 987x553.125 with 1 Axes>, cmap='dark24', tick_label_size=7, period_label=True, period_summary_func=None, fixed_max=False, dpi=144, writer=None, enable_progress_bar=False, kwargs={}, orientation='v', sort='desc', label_bars=True, bar_label_size=7, n_visible=20, fixed_order=False, perpendicular_bar_func=None)"
      ]
     },
     "execution_count": 6,
     "metadata": {},
     "output_type": "execute_result"
    }
   ],
   "source": [
    "import pandas_alive\n",
    "\n",
    "covid_df = pandas_alive.load_dataset()\n",
    "\n",
    "covid_df.plot_animated(filename='examples/example-barv-chart.gif',orientation='v')"
   ]
  },
  {
   "cell_type": "markdown",
   "metadata": {},
   "source": [
    "![Example Barv Chart](examples/example-barv-chart.gif)"
   ]
  },
  {
   "cell_type": "markdown",
   "metadata": {},
   "source": [
    "#### Line Charts\n",
    "\n",
    "With as many lines as data columns in the DataFrame."
   ]
  },
  {
   "cell_type": "code",
   "execution_count": 7,
   "metadata": {},
   "outputs": [
    {
     "name": "stdout",
     "output_type": "stream",
     "text": [
      "Generating LineChart, plotting ['Belgium', 'Brazil', 'Canada', 'China', 'France', 'Germany', 'India', 'Indonesia', 'Iran', 'Ireland', 'Italy', 'Mexico', 'Netherlands', 'Portugal', 'Spain', 'Sweden', 'Switzerland', 'Turkey', 'USA', 'United Kingdom']\n"
     ]
    },
    {
     "name": "stderr",
     "output_type": "stream",
     "text": [
      "D:\\GitHub\\pandas_alive\\pandas_alive\\_base_chart.py:284: UserWarning: Attempting to set identical bottom == top == 0.0 results in singular transformations; automatically expanding.\n",
      "  ax.set_ylim(\n"
     ]
    },
    {
     "data": {
      "text/plain": [
       "LineChart(df=                     Belgium  Brazil  Canada  China  France  Germany  India  \\\n",
       "date                                                                          \n",
       "2020-02-26 00:00:00      0.0     0.0     0.0    0.0     0.0      0.0    0.0   \n",
       "2020-02-26 02:24:00      0.0     0.0     0.0    2.9     0.0      0.0    0.0   \n",
       "2020-02-26 04:48:00      0.0     0.0     0.0    5.8     0.0      0.0    0.0   \n",
       "2020-02-26 07:12:00      0.0     0.0     0.0    8.7     0.0      0.0    0.0   \n",
       "2020-02-26 09:36:00      0.0     0.0     0.0   11.6     0.0      0.0    0.0   \n",
       "...                      ...     ...     ...    ...     ...      ...    ...   \n",
       "2020-04-21 14:24:00    226.4   160.6   173.4    0.0   541.2    216.0   42.8   \n",
       "2020-04-21 16:48:00    235.8   161.7   171.8    0.0   541.9    223.5   41.1   \n",
       "2020-04-21 19:12:00    245.2   162.8   170.2    0.0   542.6    231.0   39.4   \n",
       "2020-04-21 21:36:00    254.6   163.9   168.6    0.0   543.3    238.5   37.7   \n",
       "2020-04-22 00:00:00    264.0   165.0   167.0    0.0   544.0    246.0   36.0   \n",
       "\n",
       "                     Indonesia  Iran  Ireland  Italy  Mexico  Netherlands  \\\n",
       "date                                                                        \n",
       "2020-02-26 00:00:00        0.0   0.0      0.0    0.0     0.0          0.0   \n",
       "2020-02-26 02:24:00        0.0   0.7      0.0    0.5     0.0          0.0   \n",
       "2020-02-26 04:48:00        0.0   1.4      0.0    1.0     0.0          0.0   \n",
       "2020-02-26 07:12:00        0.0   2.1      0.0    1.5     0.0          0.0   \n",
       "2020-02-26 09:36:00        0.0   2.8      0.0    2.0     0.0          0.0   \n",
       "...                        ...   ...      ...    ...     ...          ...   \n",
       "2020-04-21 14:24:00       21.8  91.6     40.6  475.8    97.4        149.4   \n",
       "2020-04-21 16:48:00       21.1  92.2     40.2  466.1   109.3        146.8   \n",
       "2020-04-21 19:12:00       20.4  92.8     39.8  456.4   121.2        144.2   \n",
       "2020-04-21 21:36:00       19.7  93.4     39.4  446.7   133.1        141.6   \n",
       "2020-04-22 00:00:00       19.0  94.0     39.0  437.0   145.0        139.0   \n",
       "\n",
       "                     Portugal  Spain  Sweden  Switzerland  Turkey     USA  \\\n",
       "date                                                                        \n",
       "2020-02-26 00:00:00       0.0    0.0     0.0          0.0     0.0     0.0   \n",
       "2020-02-26 02:24:00       0.0    0.0     0.0          0.0     0.0     0.0   \n",
       "2020-02-26 04:48:00       0.0    0.0     0.0          0.0     0.0     0.0   \n",
       "2020-02-26 07:12:00       0.0    0.0     0.0          0.0     0.0     0.0   \n",
       "2020-02-26 09:36:00       0.0    0.0     0.0          0.0     0.0     0.0   \n",
       "...                       ...    ...     ...          ...     ...     ...   \n",
       "2020-04-21 14:24:00      24.6  433.0   177.2         38.2   117.8  2248.6   \n",
       "2020-04-21 16:48:00      24.2  433.5   175.9         36.4   117.6  2231.7   \n",
       "2020-04-21 19:12:00      23.8  434.0   174.6         34.6   117.4  2214.8   \n",
       "2020-04-21 21:36:00      23.4  434.5   173.3         32.8   117.2  2197.9   \n",
       "2020-04-22 00:00:00      23.0  435.0   172.0         31.0   117.0  2181.0   \n",
       "\n",
       "                     United Kingdom  \n",
       "date                                 \n",
       "2020-02-26 00:00:00             0.0  \n",
       "2020-02-26 02:24:00             0.0  \n",
       "2020-02-26 04:48:00             0.0  \n",
       "2020-02-26 07:12:00             0.0  \n",
       "2020-02-26 09:36:00             0.0  \n",
       "...                             ...  \n",
       "2020-04-21 14:24:00           795.0  \n",
       "2020-04-21 16:48:00           789.5  \n",
       "2020-04-21 19:12:00           784.0  \n",
       "2020-04-21 21:36:00           778.5  \n",
       "2020-04-22 00:00:00           773.0  \n",
       "\n",
       "[561 rows x 20 columns], interpolate_period=True, steps_per_period=10, period_length=500, period_fmt='%d/%m/%Y', figsize=array([6.78819444, 3.5       ]), title=None, fig=<Figure size 977.5x504 with 1 Axes>, cmap='dark24', tick_label_size=7, period_label={'x': 0.1, 'y': 0.9}, period_summary_func=None, fixed_max=False, dpi=144, writer=None, enable_progress_bar=False, kwargs={}, line_width=2, label_events=None, fill_under_line_color=None)"
      ]
     },
     "execution_count": 7,
     "metadata": {},
     "output_type": "execute_result"
    }
   ],
   "source": [
    "import pandas_alive\n",
    "\n",
    "covid_df = pandas_alive.load_dataset()\n",
    "\n",
    "covid_df.diff().fillna(0).plot_animated(filename='examples/example-line-chart.gif',kind='line',period_label={'x':0.1,'y':0.9})"
   ]
  },
  {
   "cell_type": "markdown",
   "metadata": {},
   "source": [
    "![Example Line Chart](examples/example-line-chart.gif)\n"
   ]
  },
  {
   "cell_type": "markdown",
   "metadata": {},
   "source": [
    "#### Bar Charts\n",
    "\n",
    "Similar to line charts with time as the x-axis"
   ]
  },
  {
   "cell_type": "code",
   "execution_count": 8,
   "metadata": {},
   "outputs": [
    {
     "name": "stdout",
     "output_type": "stream",
     "text": [
      "Generating BarChart, plotting ['0']\n"
     ]
    },
    {
     "name": "stderr",
     "output_type": "stream",
     "text": [
      "D:\\GitHub\\pandas_alive\\pandas_alive\\_base_chart.py:284: UserWarning: Attempting to set identical bottom == top == 2750.0 results in singular transformations; automatically expanding.\n",
      "  ax.set_ylim(\n"
     ]
    },
    {
     "data": {
      "text/plain": [
       "BarChart(df=                            0\n",
       "date                         \n",
       "2020-02-26 00:00:00    2750.0\n",
       "2020-02-26 02:24:00    2754.1\n",
       "2020-02-26 04:48:00    2758.2\n",
       "2020-02-26 07:12:00    2762.3\n",
       "2020-02-26 09:36:00    2766.4\n",
       "...                       ...\n",
       "2020-04-21 14:24:00  170709.2\n",
       "2020-04-21 16:48:00  171311.9\n",
       "2020-04-21 19:12:00  171914.6\n",
       "2020-04-21 21:36:00  172517.3\n",
       "2020-04-22 00:00:00  173120.0\n",
       "\n",
       "[561 rows x 1 columns], interpolate_period=True, steps_per_period=10, period_length=500, period_fmt='%d/%m/%Y', figsize=array([6.57899306, 3.5       ]), title=None, fig=<Figure size 947.375x504 with 1 Axes>, cmap='dark24', tick_label_size=7, period_label={'x': 0.1, 'y': 0.9}, period_summary_func=None, fixed_max=False, dpi=144, writer=None, enable_progress_bar=False, kwargs={})"
      ]
     },
     "execution_count": 8,
     "metadata": {},
     "output_type": "execute_result"
    }
   ],
   "source": [
    "import pandas_alive\n",
    "\n",
    "covid_df = pandas_alive.load_dataset()\n",
    "\n",
    "covid_df.sum(axis=1).fillna(0).plot_animated(filename='examples/example-bar-chart.gif',kind='bar',period_label={'x':0.1,'y':0.9})"
   ]
  },
  {
   "cell_type": "markdown",
   "metadata": {},
   "source": [
    "![Example Bar Chart](examples/example-bar-chart.gif)"
   ]
  },
  {
   "cell_type": "markdown",
   "metadata": {},
   "source": [
    "#### Scatter Charts"
   ]
  },
  {
   "cell_type": "code",
   "execution_count": 9,
   "metadata": {},
   "outputs": [
    {
     "name": "stdout",
     "output_type": "stream",
     "text": [
      "Generating ScatterChart, plotting ['Minimum temperature (Degree C)', 'Maximum temperature (Degree C)']\n"
     ]
    },
    {
     "name": "stderr",
     "output_type": "stream",
     "text": [
      "D:\\GitHub\\pandas_alive\\pandas_alive\\charts.py:409: UserWarning: Discarding nonzero nanoseconds in conversion\n",
      "  super().set_x_y_limits(self.df, i, self.ax)\n"
     ]
    },
    {
     "ename": "KeyboardInterrupt",
     "evalue": "",
     "output_type": "error",
     "traceback": [
      "\u001b[1;31m---------------------------------------------------------------------------\u001b[0m",
      "\u001b[1;31mKeyboardInterrupt\u001b[0m                         Traceback (most recent call last)",
      "\u001b[1;32m<ipython-input-9-7792ac0ea751>\u001b[0m in \u001b[0;36m<module>\u001b[1;34m\u001b[0m\n\u001b[0;32m     17\u001b[0m \u001b[0mkeep_columns\u001b[0m \u001b[1;33m=\u001b[0m \u001b[1;33m[\u001b[0m\u001b[1;34m\"Minimum temperature (Degree C)\"\u001b[0m\u001b[1;33m,\u001b[0m \u001b[1;34m\"Maximum temperature (Degree C)\"\u001b[0m\u001b[1;33m]\u001b[0m\u001b[1;33m\u001b[0m\u001b[1;33m\u001b[0m\u001b[0m\n\u001b[0;32m     18\u001b[0m \u001b[1;33m\u001b[0m\u001b[0m\n\u001b[1;32m---> 19\u001b[1;33m \u001b[0mmerged_temp_df\u001b[0m\u001b[1;33m[\u001b[0m\u001b[0mkeep_columns\u001b[0m\u001b[1;33m]\u001b[0m\u001b[1;33m.\u001b[0m\u001b[0mresample\u001b[0m\u001b[1;33m(\u001b[0m\u001b[1;34m\"Y\"\u001b[0m\u001b[1;33m)\u001b[0m\u001b[1;33m.\u001b[0m\u001b[0mmean\u001b[0m\u001b[1;33m(\u001b[0m\u001b[1;33m)\u001b[0m\u001b[1;33m.\u001b[0m\u001b[0mplot_animated\u001b[0m\u001b[1;33m(\u001b[0m\u001b[0mfilename\u001b[0m\u001b[1;33m=\u001b[0m\u001b[1;34m'examples/example-scatter-chart.gif'\u001b[0m\u001b[1;33m,\u001b[0m\u001b[0mkind\u001b[0m\u001b[1;33m=\u001b[0m\u001b[1;34m\"scatter\"\u001b[0m\u001b[1;33m,\u001b[0m\u001b[0mtitle\u001b[0m\u001b[1;33m=\u001b[0m\u001b[1;34m'Max & Min Temperature Newcastle, Australia'\u001b[0m\u001b[1;33m)\u001b[0m\u001b[1;33m\u001b[0m\u001b[1;33m\u001b[0m\u001b[0m\n\u001b[0m",
      "\u001b[1;32mD:\\GitHub\\pandas_alive\\pandas_alive\\plotting.py\u001b[0m in \u001b[0;36m__call__\u001b[1;34m(self, *args, **kwargs)\u001b[0m\n\u001b[0;32m    663\u001b[0m         \u001b[0mCalls\u001b[0m \u001b[1;33m:\u001b[0m\u001b[0mfunc\u001b[0m\u001b[1;33m:\u001b[0m \u001b[0mpandas_alive\u001b[0m\u001b[1;33m.\u001b[0m\u001b[0mplotting\u001b[0m\u001b[1;33m.\u001b[0m\u001b[0mplot\u001b[0m \u001b[1;32mand\u001b[0m \u001b[0mreturns\u001b[0m \u001b[0minstance\u001b[0m \u001b[0mof\u001b[0m \u001b[0mconstructed\u001b[0m \u001b[0mchart\u001b[0m\u001b[1;33m\u001b[0m\u001b[1;33m\u001b[0m\u001b[0m\n\u001b[0;32m    664\u001b[0m         \"\"\"\n\u001b[1;32m--> 665\u001b[1;33m         \u001b[1;32mreturn\u001b[0m \u001b[0mplot\u001b[0m\u001b[1;33m(\u001b[0m\u001b[0mself\u001b[0m\u001b[1;33m.\u001b[0m\u001b[0mdf\u001b[0m\u001b[1;33m,\u001b[0m \u001b[1;33m*\u001b[0m\u001b[0margs\u001b[0m\u001b[1;33m,\u001b[0m \u001b[1;33m**\u001b[0m\u001b[0mkwargs\u001b[0m\u001b[1;33m)\u001b[0m\u001b[1;33m\u001b[0m\u001b[1;33m\u001b[0m\u001b[0m\n\u001b[0m\u001b[0;32m    666\u001b[0m \u001b[1;33m\u001b[0m\u001b[0m\n\u001b[0;32m    667\u001b[0m     \u001b[1;33m@\u001b[0m\u001b[0mproperty\u001b[0m\u001b[1;33m\u001b[0m\u001b[1;33m\u001b[0m\u001b[0m\n",
      "\u001b[1;32mD:\\GitHub\\pandas_alive\\pandas_alive\\plotting.py\u001b[0m in \u001b[0;36mplot\u001b[1;34m(input_df, filename, kind, interpolate_period, steps_per_period, period_length, period_fmt, figsize, title, fig, cmap, tick_label_size, period_label, period_summary_func, fixed_max, dpi, writer, enable_progress_bar, orientation, sort, label_bars, bar_label_size, n_visible, fixed_order, perpendicular_bar_func, line_width, label_events, fill_under_line_color, size, x_data_label, y_data_label, size_data_label, color_data_label, **kwargs)\u001b[0m\n\u001b[0;32m    365\u001b[0m         )\n\u001b[0;32m    366\u001b[0m         \u001b[1;32mif\u001b[0m \u001b[0mfilename\u001b[0m\u001b[1;33m:\u001b[0m\u001b[1;33m\u001b[0m\u001b[1;33m\u001b[0m\u001b[0m\n\u001b[1;32m--> 367\u001b[1;33m             \u001b[0manimated_scatter\u001b[0m\u001b[1;33m.\u001b[0m\u001b[0msave\u001b[0m\u001b[1;33m(\u001b[0m\u001b[0mverify_filename\u001b[0m\u001b[1;33m(\u001b[0m\u001b[0mfilename\u001b[0m\u001b[1;33m)\u001b[0m\u001b[1;33m)\u001b[0m\u001b[1;33m\u001b[0m\u001b[1;33m\u001b[0m\u001b[0m\n\u001b[0m\u001b[0;32m    368\u001b[0m         \u001b[1;32mreturn\u001b[0m \u001b[0manimated_scatter\u001b[0m\u001b[1;33m\u001b[0m\u001b[1;33m\u001b[0m\u001b[0m\n\u001b[0;32m    369\u001b[0m     \u001b[1;32melif\u001b[0m \u001b[0mkind\u001b[0m \u001b[1;33m==\u001b[0m \u001b[1;34m\"pie\"\u001b[0m\u001b[1;33m:\u001b[0m\u001b[1;33m\u001b[0m\u001b[1;33m\u001b[0m\u001b[0m\n",
      "\u001b[1;32mD:\\GitHub\\pandas_alive\\pandas_alive\\_base_chart.py\u001b[0m in \u001b[0;36msave\u001b[1;34m(self, filename)\u001b[0m\n\u001b[0;32m    575\u001b[0m                         \u001b[0mframe\u001b[0m \u001b[1;33m=\u001b[0m \u001b[0mself\u001b[0m\u001b[1;33m.\u001b[0m\u001b[0manim_func\u001b[0m\u001b[1;33m(\u001b[0m\u001b[0mi\u001b[0m\u001b[1;33m)\u001b[0m\u001b[1;33m\u001b[0m\u001b[1;33m\u001b[0m\u001b[0m\n\u001b[0;32m    576\u001b[0m                         \u001b[0mbuffer\u001b[0m \u001b[1;33m=\u001b[0m \u001b[0mio\u001b[0m\u001b[1;33m.\u001b[0m\u001b[0mBytesIO\u001b[0m\u001b[1;33m(\u001b[0m\u001b[1;33m)\u001b[0m\u001b[1;33m\u001b[0m\u001b[1;33m\u001b[0m\u001b[0m\n\u001b[1;32m--> 577\u001b[1;33m                         \u001b[0mself\u001b[0m\u001b[1;33m.\u001b[0m\u001b[0mfig\u001b[0m\u001b[1;33m.\u001b[0m\u001b[0msavefig\u001b[0m\u001b[1;33m(\u001b[0m\u001b[0mbuffer\u001b[0m\u001b[1;33m,\u001b[0m \u001b[0mformat\u001b[0m\u001b[1;33m=\u001b[0m\u001b[1;34m\"png\"\u001b[0m\u001b[1;33m)\u001b[0m\u001b[1;33m\u001b[0m\u001b[1;33m\u001b[0m\u001b[0m\n\u001b[0m\u001b[0;32m    578\u001b[0m                         \u001b[0mbuffer\u001b[0m\u001b[1;33m.\u001b[0m\u001b[0mseek\u001b[0m\u001b[1;33m(\u001b[0m\u001b[1;36m0\u001b[0m\u001b[1;33m)\u001b[0m\u001b[1;33m\u001b[0m\u001b[1;33m\u001b[0m\u001b[0m\n\u001b[0;32m    579\u001b[0m                         \u001b[0mimage\u001b[0m \u001b[1;33m=\u001b[0m \u001b[0mImage\u001b[0m\u001b[1;33m.\u001b[0m\u001b[0mopen\u001b[0m\u001b[1;33m(\u001b[0m\u001b[0mbuffer\u001b[0m\u001b[1;33m)\u001b[0m\u001b[1;33m\u001b[0m\u001b[1;33m\u001b[0m\u001b[0m\n",
      "\u001b[1;32mC:\\miniconda3\\envs\\py38-pandas_alive\\lib\\site-packages\\matplotlib\\figure.py\u001b[0m in \u001b[0;36msavefig\u001b[1;34m(self, fname, transparent, **kwargs)\u001b[0m\n\u001b[0;32m   2201\u001b[0m             \u001b[0mself\u001b[0m\u001b[1;33m.\u001b[0m\u001b[0mpatch\u001b[0m\u001b[1;33m.\u001b[0m\u001b[0mset_visible\u001b[0m\u001b[1;33m(\u001b[0m\u001b[0mframeon\u001b[0m\u001b[1;33m)\u001b[0m\u001b[1;33m\u001b[0m\u001b[1;33m\u001b[0m\u001b[0m\n\u001b[0;32m   2202\u001b[0m \u001b[1;33m\u001b[0m\u001b[0m\n\u001b[1;32m-> 2203\u001b[1;33m         \u001b[0mself\u001b[0m\u001b[1;33m.\u001b[0m\u001b[0mcanvas\u001b[0m\u001b[1;33m.\u001b[0m\u001b[0mprint_figure\u001b[0m\u001b[1;33m(\u001b[0m\u001b[0mfname\u001b[0m\u001b[1;33m,\u001b[0m \u001b[1;33m**\u001b[0m\u001b[0mkwargs\u001b[0m\u001b[1;33m)\u001b[0m\u001b[1;33m\u001b[0m\u001b[1;33m\u001b[0m\u001b[0m\n\u001b[0m\u001b[0;32m   2204\u001b[0m \u001b[1;33m\u001b[0m\u001b[0m\n\u001b[0;32m   2205\u001b[0m         \u001b[1;32mif\u001b[0m \u001b[0mframeon\u001b[0m\u001b[1;33m:\u001b[0m\u001b[1;33m\u001b[0m\u001b[1;33m\u001b[0m\u001b[0m\n",
      "\u001b[1;32mC:\\miniconda3\\envs\\py38-pandas_alive\\lib\\site-packages\\matplotlib\\backend_bases.py\u001b[0m in \u001b[0;36mprint_figure\u001b[1;34m(self, filename, dpi, facecolor, edgecolor, orientation, format, bbox_inches, **kwargs)\u001b[0m\n\u001b[0;32m   2096\u001b[0m \u001b[1;33m\u001b[0m\u001b[0m\n\u001b[0;32m   2097\u001b[0m             \u001b[1;32mtry\u001b[0m\u001b[1;33m:\u001b[0m\u001b[1;33m\u001b[0m\u001b[1;33m\u001b[0m\u001b[0m\n\u001b[1;32m-> 2098\u001b[1;33m                 result = print_method(\n\u001b[0m\u001b[0;32m   2099\u001b[0m                     \u001b[0mfilename\u001b[0m\u001b[1;33m,\u001b[0m\u001b[1;33m\u001b[0m\u001b[1;33m\u001b[0m\u001b[0m\n\u001b[0;32m   2100\u001b[0m                     \u001b[0mdpi\u001b[0m\u001b[1;33m=\u001b[0m\u001b[0mdpi\u001b[0m\u001b[1;33m,\u001b[0m\u001b[1;33m\u001b[0m\u001b[1;33m\u001b[0m\u001b[0m\n",
      "\u001b[1;32mC:\\miniconda3\\envs\\py38-pandas_alive\\lib\\site-packages\\matplotlib\\backends\\backend_agg.py\u001b[0m in \u001b[0;36mprint_png\u001b[1;34m(self, filename_or_obj, metadata, pil_kwargs, *args, **kwargs)\u001b[0m\n\u001b[0;32m    512\u001b[0m         }\n\u001b[0;32m    513\u001b[0m \u001b[1;33m\u001b[0m\u001b[0m\n\u001b[1;32m--> 514\u001b[1;33m         \u001b[0mFigureCanvasAgg\u001b[0m\u001b[1;33m.\u001b[0m\u001b[0mdraw\u001b[0m\u001b[1;33m(\u001b[0m\u001b[0mself\u001b[0m\u001b[1;33m)\u001b[0m\u001b[1;33m\u001b[0m\u001b[1;33m\u001b[0m\u001b[0m\n\u001b[0m\u001b[0;32m    515\u001b[0m         \u001b[1;32mif\u001b[0m \u001b[0mpil_kwargs\u001b[0m \u001b[1;32mis\u001b[0m \u001b[1;32mnot\u001b[0m \u001b[1;32mNone\u001b[0m\u001b[1;33m:\u001b[0m\u001b[1;33m\u001b[0m\u001b[1;33m\u001b[0m\u001b[0m\n\u001b[0;32m    516\u001b[0m             \u001b[1;32mfrom\u001b[0m \u001b[0mPIL\u001b[0m \u001b[1;32mimport\u001b[0m \u001b[0mImage\u001b[0m\u001b[1;33m\u001b[0m\u001b[1;33m\u001b[0m\u001b[0m\n",
      "\u001b[1;32mC:\\miniconda3\\envs\\py38-pandas_alive\\lib\\site-packages\\matplotlib\\backends\\backend_agg.py\u001b[0m in \u001b[0;36mdraw\u001b[1;34m(self)\u001b[0m\n\u001b[0;32m    391\u001b[0m              (self.toolbar._wait_cursor_for_draw_cm() if self.toolbar\n\u001b[0;32m    392\u001b[0m               else nullcontext()):\n\u001b[1;32m--> 393\u001b[1;33m             \u001b[0mself\u001b[0m\u001b[1;33m.\u001b[0m\u001b[0mfigure\u001b[0m\u001b[1;33m.\u001b[0m\u001b[0mdraw\u001b[0m\u001b[1;33m(\u001b[0m\u001b[0mself\u001b[0m\u001b[1;33m.\u001b[0m\u001b[0mrenderer\u001b[0m\u001b[1;33m)\u001b[0m\u001b[1;33m\u001b[0m\u001b[1;33m\u001b[0m\u001b[0m\n\u001b[0m\u001b[0;32m    394\u001b[0m             \u001b[1;31m# A GUI class may be need to update a window using this draw, so\u001b[0m\u001b[1;33m\u001b[0m\u001b[1;33m\u001b[0m\u001b[1;33m\u001b[0m\u001b[0m\n\u001b[0;32m    395\u001b[0m             \u001b[1;31m# don't forget to call the superclass.\u001b[0m\u001b[1;33m\u001b[0m\u001b[1;33m\u001b[0m\u001b[1;33m\u001b[0m\u001b[0m\n",
      "\u001b[1;32mC:\\miniconda3\\envs\\py38-pandas_alive\\lib\\site-packages\\matplotlib\\artist.py\u001b[0m in \u001b[0;36mdraw_wrapper\u001b[1;34m(artist, renderer, *args, **kwargs)\u001b[0m\n\u001b[0;32m     36\u001b[0m                 \u001b[0mrenderer\u001b[0m\u001b[1;33m.\u001b[0m\u001b[0mstart_filter\u001b[0m\u001b[1;33m(\u001b[0m\u001b[1;33m)\u001b[0m\u001b[1;33m\u001b[0m\u001b[1;33m\u001b[0m\u001b[0m\n\u001b[0;32m     37\u001b[0m \u001b[1;33m\u001b[0m\u001b[0m\n\u001b[1;32m---> 38\u001b[1;33m             \u001b[1;32mreturn\u001b[0m \u001b[0mdraw\u001b[0m\u001b[1;33m(\u001b[0m\u001b[0martist\u001b[0m\u001b[1;33m,\u001b[0m \u001b[0mrenderer\u001b[0m\u001b[1;33m,\u001b[0m \u001b[1;33m*\u001b[0m\u001b[0margs\u001b[0m\u001b[1;33m,\u001b[0m \u001b[1;33m**\u001b[0m\u001b[0mkwargs\u001b[0m\u001b[1;33m)\u001b[0m\u001b[1;33m\u001b[0m\u001b[1;33m\u001b[0m\u001b[0m\n\u001b[0m\u001b[0;32m     39\u001b[0m         \u001b[1;32mfinally\u001b[0m\u001b[1;33m:\u001b[0m\u001b[1;33m\u001b[0m\u001b[1;33m\u001b[0m\u001b[0m\n\u001b[0;32m     40\u001b[0m             \u001b[1;32mif\u001b[0m \u001b[0martist\u001b[0m\u001b[1;33m.\u001b[0m\u001b[0mget_agg_filter\u001b[0m\u001b[1;33m(\u001b[0m\u001b[1;33m)\u001b[0m \u001b[1;32mis\u001b[0m \u001b[1;32mnot\u001b[0m \u001b[1;32mNone\u001b[0m\u001b[1;33m:\u001b[0m\u001b[1;33m\u001b[0m\u001b[1;33m\u001b[0m\u001b[0m\n",
      "\u001b[1;32mC:\\miniconda3\\envs\\py38-pandas_alive\\lib\\site-packages\\matplotlib\\figure.py\u001b[0m in \u001b[0;36mdraw\u001b[1;34m(self, renderer)\u001b[0m\n\u001b[0;32m   1733\u001b[0m \u001b[1;33m\u001b[0m\u001b[0m\n\u001b[0;32m   1734\u001b[0m             \u001b[0mself\u001b[0m\u001b[1;33m.\u001b[0m\u001b[0mpatch\u001b[0m\u001b[1;33m.\u001b[0m\u001b[0mdraw\u001b[0m\u001b[1;33m(\u001b[0m\u001b[0mrenderer\u001b[0m\u001b[1;33m)\u001b[0m\u001b[1;33m\u001b[0m\u001b[1;33m\u001b[0m\u001b[0m\n\u001b[1;32m-> 1735\u001b[1;33m             mimage._draw_list_compositing_images(\n\u001b[0m\u001b[0;32m   1736\u001b[0m                 renderer, self, artists, self.suppressComposite)\n\u001b[0;32m   1737\u001b[0m \u001b[1;33m\u001b[0m\u001b[0m\n",
      "\u001b[1;32mC:\\miniconda3\\envs\\py38-pandas_alive\\lib\\site-packages\\matplotlib\\image.py\u001b[0m in \u001b[0;36m_draw_list_compositing_images\u001b[1;34m(renderer, parent, artists, suppress_composite)\u001b[0m\n\u001b[0;32m    135\u001b[0m     \u001b[1;32mif\u001b[0m \u001b[0mnot_composite\u001b[0m \u001b[1;32mor\u001b[0m \u001b[1;32mnot\u001b[0m \u001b[0mhas_images\u001b[0m\u001b[1;33m:\u001b[0m\u001b[1;33m\u001b[0m\u001b[1;33m\u001b[0m\u001b[0m\n\u001b[0;32m    136\u001b[0m         \u001b[1;32mfor\u001b[0m \u001b[0ma\u001b[0m \u001b[1;32min\u001b[0m \u001b[0martists\u001b[0m\u001b[1;33m:\u001b[0m\u001b[1;33m\u001b[0m\u001b[1;33m\u001b[0m\u001b[0m\n\u001b[1;32m--> 137\u001b[1;33m             \u001b[0ma\u001b[0m\u001b[1;33m.\u001b[0m\u001b[0mdraw\u001b[0m\u001b[1;33m(\u001b[0m\u001b[0mrenderer\u001b[0m\u001b[1;33m)\u001b[0m\u001b[1;33m\u001b[0m\u001b[1;33m\u001b[0m\u001b[0m\n\u001b[0m\u001b[0;32m    138\u001b[0m     \u001b[1;32melse\u001b[0m\u001b[1;33m:\u001b[0m\u001b[1;33m\u001b[0m\u001b[1;33m\u001b[0m\u001b[0m\n\u001b[0;32m    139\u001b[0m         \u001b[1;31m# Composite any adjacent images together\u001b[0m\u001b[1;33m\u001b[0m\u001b[1;33m\u001b[0m\u001b[1;33m\u001b[0m\u001b[0m\n",
      "\u001b[1;32mC:\\miniconda3\\envs\\py38-pandas_alive\\lib\\site-packages\\matplotlib\\artist.py\u001b[0m in \u001b[0;36mdraw_wrapper\u001b[1;34m(artist, renderer, *args, **kwargs)\u001b[0m\n\u001b[0;32m     36\u001b[0m                 \u001b[0mrenderer\u001b[0m\u001b[1;33m.\u001b[0m\u001b[0mstart_filter\u001b[0m\u001b[1;33m(\u001b[0m\u001b[1;33m)\u001b[0m\u001b[1;33m\u001b[0m\u001b[1;33m\u001b[0m\u001b[0m\n\u001b[0;32m     37\u001b[0m \u001b[1;33m\u001b[0m\u001b[0m\n\u001b[1;32m---> 38\u001b[1;33m             \u001b[1;32mreturn\u001b[0m \u001b[0mdraw\u001b[0m\u001b[1;33m(\u001b[0m\u001b[0martist\u001b[0m\u001b[1;33m,\u001b[0m \u001b[0mrenderer\u001b[0m\u001b[1;33m,\u001b[0m \u001b[1;33m*\u001b[0m\u001b[0margs\u001b[0m\u001b[1;33m,\u001b[0m \u001b[1;33m**\u001b[0m\u001b[0mkwargs\u001b[0m\u001b[1;33m)\u001b[0m\u001b[1;33m\u001b[0m\u001b[1;33m\u001b[0m\u001b[0m\n\u001b[0m\u001b[0;32m     39\u001b[0m         \u001b[1;32mfinally\u001b[0m\u001b[1;33m:\u001b[0m\u001b[1;33m\u001b[0m\u001b[1;33m\u001b[0m\u001b[0m\n\u001b[0;32m     40\u001b[0m             \u001b[1;32mif\u001b[0m \u001b[0martist\u001b[0m\u001b[1;33m.\u001b[0m\u001b[0mget_agg_filter\u001b[0m\u001b[1;33m(\u001b[0m\u001b[1;33m)\u001b[0m \u001b[1;32mis\u001b[0m \u001b[1;32mnot\u001b[0m \u001b[1;32mNone\u001b[0m\u001b[1;33m:\u001b[0m\u001b[1;33m\u001b[0m\u001b[1;33m\u001b[0m\u001b[0m\n",
      "\u001b[1;32mC:\\miniconda3\\envs\\py38-pandas_alive\\lib\\site-packages\\matplotlib\\axes\\_base.py\u001b[0m in \u001b[0;36mdraw\u001b[1;34m(self, renderer, inframe)\u001b[0m\n\u001b[0;32m   2628\u001b[0m             \u001b[0mrenderer\u001b[0m\u001b[1;33m.\u001b[0m\u001b[0mstop_rasterizing\u001b[0m\u001b[1;33m(\u001b[0m\u001b[1;33m)\u001b[0m\u001b[1;33m\u001b[0m\u001b[1;33m\u001b[0m\u001b[0m\n\u001b[0;32m   2629\u001b[0m \u001b[1;33m\u001b[0m\u001b[0m\n\u001b[1;32m-> 2630\u001b[1;33m         \u001b[0mmimage\u001b[0m\u001b[1;33m.\u001b[0m\u001b[0m_draw_list_compositing_images\u001b[0m\u001b[1;33m(\u001b[0m\u001b[0mrenderer\u001b[0m\u001b[1;33m,\u001b[0m \u001b[0mself\u001b[0m\u001b[1;33m,\u001b[0m \u001b[0martists\u001b[0m\u001b[1;33m)\u001b[0m\u001b[1;33m\u001b[0m\u001b[1;33m\u001b[0m\u001b[0m\n\u001b[0m\u001b[0;32m   2631\u001b[0m \u001b[1;33m\u001b[0m\u001b[0m\n\u001b[0;32m   2632\u001b[0m         \u001b[0mrenderer\u001b[0m\u001b[1;33m.\u001b[0m\u001b[0mclose_group\u001b[0m\u001b[1;33m(\u001b[0m\u001b[1;34m'axes'\u001b[0m\u001b[1;33m)\u001b[0m\u001b[1;33m\u001b[0m\u001b[1;33m\u001b[0m\u001b[0m\n",
      "\u001b[1;32mC:\\miniconda3\\envs\\py38-pandas_alive\\lib\\site-packages\\matplotlib\\image.py\u001b[0m in \u001b[0;36m_draw_list_compositing_images\u001b[1;34m(renderer, parent, artists, suppress_composite)\u001b[0m\n\u001b[0;32m    135\u001b[0m     \u001b[1;32mif\u001b[0m \u001b[0mnot_composite\u001b[0m \u001b[1;32mor\u001b[0m \u001b[1;32mnot\u001b[0m \u001b[0mhas_images\u001b[0m\u001b[1;33m:\u001b[0m\u001b[1;33m\u001b[0m\u001b[1;33m\u001b[0m\u001b[0m\n\u001b[0;32m    136\u001b[0m         \u001b[1;32mfor\u001b[0m \u001b[0ma\u001b[0m \u001b[1;32min\u001b[0m \u001b[0martists\u001b[0m\u001b[1;33m:\u001b[0m\u001b[1;33m\u001b[0m\u001b[1;33m\u001b[0m\u001b[0m\n\u001b[1;32m--> 137\u001b[1;33m             \u001b[0ma\u001b[0m\u001b[1;33m.\u001b[0m\u001b[0mdraw\u001b[0m\u001b[1;33m(\u001b[0m\u001b[0mrenderer\u001b[0m\u001b[1;33m)\u001b[0m\u001b[1;33m\u001b[0m\u001b[1;33m\u001b[0m\u001b[0m\n\u001b[0m\u001b[0;32m    138\u001b[0m     \u001b[1;32melse\u001b[0m\u001b[1;33m:\u001b[0m\u001b[1;33m\u001b[0m\u001b[1;33m\u001b[0m\u001b[0m\n\u001b[0;32m    139\u001b[0m         \u001b[1;31m# Composite any adjacent images together\u001b[0m\u001b[1;33m\u001b[0m\u001b[1;33m\u001b[0m\u001b[1;33m\u001b[0m\u001b[0m\n",
      "\u001b[1;32mC:\\miniconda3\\envs\\py38-pandas_alive\\lib\\site-packages\\matplotlib\\artist.py\u001b[0m in \u001b[0;36mdraw_wrapper\u001b[1;34m(artist, renderer, *args, **kwargs)\u001b[0m\n\u001b[0;32m     36\u001b[0m                 \u001b[0mrenderer\u001b[0m\u001b[1;33m.\u001b[0m\u001b[0mstart_filter\u001b[0m\u001b[1;33m(\u001b[0m\u001b[1;33m)\u001b[0m\u001b[1;33m\u001b[0m\u001b[1;33m\u001b[0m\u001b[0m\n\u001b[0;32m     37\u001b[0m \u001b[1;33m\u001b[0m\u001b[0m\n\u001b[1;32m---> 38\u001b[1;33m             \u001b[1;32mreturn\u001b[0m \u001b[0mdraw\u001b[0m\u001b[1;33m(\u001b[0m\u001b[0martist\u001b[0m\u001b[1;33m,\u001b[0m \u001b[0mrenderer\u001b[0m\u001b[1;33m,\u001b[0m \u001b[1;33m*\u001b[0m\u001b[0margs\u001b[0m\u001b[1;33m,\u001b[0m \u001b[1;33m**\u001b[0m\u001b[0mkwargs\u001b[0m\u001b[1;33m)\u001b[0m\u001b[1;33m\u001b[0m\u001b[1;33m\u001b[0m\u001b[0m\n\u001b[0m\u001b[0;32m     39\u001b[0m         \u001b[1;32mfinally\u001b[0m\u001b[1;33m:\u001b[0m\u001b[1;33m\u001b[0m\u001b[1;33m\u001b[0m\u001b[0m\n\u001b[0;32m     40\u001b[0m             \u001b[1;32mif\u001b[0m \u001b[0martist\u001b[0m\u001b[1;33m.\u001b[0m\u001b[0mget_agg_filter\u001b[0m\u001b[1;33m(\u001b[0m\u001b[1;33m)\u001b[0m \u001b[1;32mis\u001b[0m \u001b[1;32mnot\u001b[0m \u001b[1;32mNone\u001b[0m\u001b[1;33m:\u001b[0m\u001b[1;33m\u001b[0m\u001b[1;33m\u001b[0m\u001b[0m\n",
      "\u001b[1;32mC:\\miniconda3\\envs\\py38-pandas_alive\\lib\\site-packages\\matplotlib\\collections.py\u001b[0m in \u001b[0;36mdraw\u001b[1;34m(self, renderer)\u001b[0m\n\u001b[0;32m    893\u001b[0m     \u001b[1;32mdef\u001b[0m \u001b[0mdraw\u001b[0m\u001b[1;33m(\u001b[0m\u001b[0mself\u001b[0m\u001b[1;33m,\u001b[0m \u001b[0mrenderer\u001b[0m\u001b[1;33m)\u001b[0m\u001b[1;33m:\u001b[0m\u001b[1;33m\u001b[0m\u001b[1;33m\u001b[0m\u001b[0m\n\u001b[0;32m    894\u001b[0m         \u001b[0mself\u001b[0m\u001b[1;33m.\u001b[0m\u001b[0mset_sizes\u001b[0m\u001b[1;33m(\u001b[0m\u001b[0mself\u001b[0m\u001b[1;33m.\u001b[0m\u001b[0m_sizes\u001b[0m\u001b[1;33m,\u001b[0m \u001b[0mself\u001b[0m\u001b[1;33m.\u001b[0m\u001b[0mfigure\u001b[0m\u001b[1;33m.\u001b[0m\u001b[0mdpi\u001b[0m\u001b[1;33m)\u001b[0m\u001b[1;33m\u001b[0m\u001b[1;33m\u001b[0m\u001b[0m\n\u001b[1;32m--> 895\u001b[1;33m         \u001b[0mCollection\u001b[0m\u001b[1;33m.\u001b[0m\u001b[0mdraw\u001b[0m\u001b[1;33m(\u001b[0m\u001b[0mself\u001b[0m\u001b[1;33m,\u001b[0m \u001b[0mrenderer\u001b[0m\u001b[1;33m)\u001b[0m\u001b[1;33m\u001b[0m\u001b[1;33m\u001b[0m\u001b[0m\n\u001b[0m\u001b[0;32m    896\u001b[0m \u001b[1;33m\u001b[0m\u001b[0m\n\u001b[0;32m    897\u001b[0m \u001b[1;33m\u001b[0m\u001b[0m\n",
      "\u001b[1;32mC:\\miniconda3\\envs\\py38-pandas_alive\\lib\\site-packages\\matplotlib\\artist.py\u001b[0m in \u001b[0;36mdraw_wrapper\u001b[1;34m(artist, renderer, *args, **kwargs)\u001b[0m\n\u001b[0;32m     36\u001b[0m                 \u001b[0mrenderer\u001b[0m\u001b[1;33m.\u001b[0m\u001b[0mstart_filter\u001b[0m\u001b[1;33m(\u001b[0m\u001b[1;33m)\u001b[0m\u001b[1;33m\u001b[0m\u001b[1;33m\u001b[0m\u001b[0m\n\u001b[0;32m     37\u001b[0m \u001b[1;33m\u001b[0m\u001b[0m\n\u001b[1;32m---> 38\u001b[1;33m             \u001b[1;32mreturn\u001b[0m \u001b[0mdraw\u001b[0m\u001b[1;33m(\u001b[0m\u001b[0martist\u001b[0m\u001b[1;33m,\u001b[0m \u001b[0mrenderer\u001b[0m\u001b[1;33m,\u001b[0m \u001b[1;33m*\u001b[0m\u001b[0margs\u001b[0m\u001b[1;33m,\u001b[0m \u001b[1;33m**\u001b[0m\u001b[0mkwargs\u001b[0m\u001b[1;33m)\u001b[0m\u001b[1;33m\u001b[0m\u001b[1;33m\u001b[0m\u001b[0m\n\u001b[0m\u001b[0;32m     39\u001b[0m         \u001b[1;32mfinally\u001b[0m\u001b[1;33m:\u001b[0m\u001b[1;33m\u001b[0m\u001b[1;33m\u001b[0m\u001b[0m\n\u001b[0;32m     40\u001b[0m             \u001b[1;32mif\u001b[0m \u001b[0martist\u001b[0m\u001b[1;33m.\u001b[0m\u001b[0mget_agg_filter\u001b[0m\u001b[1;33m(\u001b[0m\u001b[1;33m)\u001b[0m \u001b[1;32mis\u001b[0m \u001b[1;32mnot\u001b[0m \u001b[1;32mNone\u001b[0m\u001b[1;33m:\u001b[0m\u001b[1;33m\u001b[0m\u001b[1;33m\u001b[0m\u001b[0m\n",
      "\u001b[1;32mC:\\miniconda3\\envs\\py38-pandas_alive\\lib\\site-packages\\matplotlib\\collections.py\u001b[0m in \u001b[0;36mdraw\u001b[1;34m(self, renderer)\u001b[0m\n\u001b[0;32m    370\u001b[0m                 self._offset_position)\n\u001b[0;32m    371\u001b[0m \u001b[1;33m\u001b[0m\u001b[0m\n\u001b[1;32m--> 372\u001b[1;33m         \u001b[0mgc\u001b[0m\u001b[1;33m.\u001b[0m\u001b[0mrestore\u001b[0m\u001b[1;33m(\u001b[0m\u001b[1;33m)\u001b[0m\u001b[1;33m\u001b[0m\u001b[1;33m\u001b[0m\u001b[0m\n\u001b[0m\u001b[0;32m    373\u001b[0m         \u001b[0mrenderer\u001b[0m\u001b[1;33m.\u001b[0m\u001b[0mclose_group\u001b[0m\u001b[1;33m(\u001b[0m\u001b[0mself\u001b[0m\u001b[1;33m.\u001b[0m\u001b[0m__class__\u001b[0m\u001b[1;33m.\u001b[0m\u001b[0m__name__\u001b[0m\u001b[1;33m)\u001b[0m\u001b[1;33m\u001b[0m\u001b[1;33m\u001b[0m\u001b[0m\n\u001b[0;32m    374\u001b[0m         \u001b[0mself\u001b[0m\u001b[1;33m.\u001b[0m\u001b[0mstale\u001b[0m \u001b[1;33m=\u001b[0m \u001b[1;32mFalse\u001b[0m\u001b[1;33m\u001b[0m\u001b[1;33m\u001b[0m\u001b[0m\n",
      "\u001b[1;31mKeyboardInterrupt\u001b[0m: "
     ]
    }
   ],
   "source": [
    "import pandas as pd\n",
    "import pandas_alive\n",
    "\n",
    "max_temp_df = pd.read_csv(\n",
    "    \"data/Newcastle_Australia_Max_Temps.csv\",\n",
    "    parse_dates={\"Timestamp\": [\"Year\", \"Month\", \"Day\"]},\n",
    ")\n",
    "min_temp_df = pd.read_csv(\n",
    "    \"data/Newcastle_Australia_Min_Temps.csv\",\n",
    "    parse_dates={\"Timestamp\": [\"Year\", \"Month\", \"Day\"]},\n",
    ")\n",
    "\n",
    "merged_temp_df = pd.merge_asof(max_temp_df, min_temp_df, on=\"Timestamp\")\n",
    "\n",
    "merged_temp_df.index = pd.to_datetime(merged_temp_df[\"Timestamp\"].dt.strftime('%Y/%m/%d'))\n",
    "\n",
    "keep_columns = [\"Minimum temperature (Degree C)\", \"Maximum temperature (Degree C)\"]\n",
    "\n",
    "merged_temp_df[keep_columns].resample(\"Y\").mean().plot_animated(filename='examples/example-scatter-chart.gif',kind=\"scatter\",title='Max & Min Temperature Newcastle, Australia')\n"
   ]
  },
  {
   "cell_type": "markdown",
   "metadata": {},
   "source": [
    "![Example Scatter Chart](examples/example-scatter-chart.gif)"
   ]
  },
  {
   "cell_type": "markdown",
   "metadata": {},
   "source": [
    "#### Pie Charts"
   ]
  },
  {
   "cell_type": "code",
   "execution_count": null,
   "metadata": {},
   "outputs": [],
   "source": [
    "import pandas_alive\n",
    "\n",
    "covid_df = pandas_alive.load_dataset()\n",
    "\n",
    "covid_df.plot_animated(filename='examples/example-pie-chart.gif',kind=\"pie\",rotatelabels=True,period_label={'x':0,'y':0})"
   ]
  },
  {
   "cell_type": "markdown",
   "metadata": {},
   "source": [
    "![Example Pie Chart](examples/example-pie-chart.gif)"
   ]
  },
  {
   "cell_type": "markdown",
   "metadata": {},
   "source": [
    "#### Bubble Charts\n",
    "\n",
    "Bubble charts are generated from a multi-indexed dataframes. Where the index is the time period (optional) and the axes are defined with `x_data_label` & `y_data_label` which should be passed a string in the level 0 column labels.\n",
    "\n",
    "See an example multi-indexed dataframe at: <https://github.com/JackMcKew/pandas_alive/tree/master/data/multi.csv>"
   ]
  },
  {
   "cell_type": "code",
   "execution_count": null,
   "metadata": {},
   "outputs": [],
   "source": [
    "import pandas_alive\n",
    "\n",
    "multi_index_df = pd.read_csv(\"data/multi.csv\", header=[0, 1], index_col=0)\n",
    "\n",
    "multi_index_df.index = pd.to_datetime(multi_index_df.index,dayfirst=True)\n",
    "\n",
    "map_chart = multi_index_df.plot_animated(\n",
    "    kind=\"bubble\",\n",
    "    filename=\"examples/example-bubble-chart.gif\",\n",
    "    x_data_label=\"Longitude\",\n",
    "    y_data_label=\"Latitude\",\n",
    "    size_data_label=\"Cases\",\n",
    ")"
   ]
  },
  {
   "cell_type": "markdown",
   "metadata": {},
   "source": [
    "![Bubble Chart Example](examples/example-bubble-chart.gif)"
   ]
  },
  {
   "cell_type": "markdown",
   "metadata": {},
   "source": [
    "#### GeoSpatial Charts\n",
    "\n",
    "GeoSpatial charts can now be animated easily using [`geopandas`](https://geopandas.org/index.html)!\n",
    "\n",
    "> If using Windows, [anaconda](https://www.anaconda.com/) is the easiest way to install with all GDAL dependancies.\n",
    "\n",
    "Must begin with a `geopandas` GeoDataFrame containing 'wide' data where:\n",
    "\n",
    "- Every row represents a single geometry (Point or Polygon).\n",
    "    - The index contains the geometry label (optional)\n",
    "- Each column represents a single period in time.\n",
    "\n",
    "> These can be easily composed by transposing data compatible with the rest of the charts using `df = df.T`.\n",
    "\n",
    "##### GeoSpatial Point Charts"
   ]
  },
  {
   "cell_type": "code",
   "execution_count": null,
   "metadata": {},
   "outputs": [],
   "source": [
    "import geopandas\n",
    "import pandas_alive\n",
    "import contextily\n",
    "\n",
    "gdf = geopandas.read_file('data/nsw-covid19-cases-by-postcode.gpkg')\n",
    "gdf.index = gdf.postcode\n",
    "gdf = gdf.drop('postcode',axis=1)\n",
    "\n",
    "map_chart = gdf.plot_animated(filename='examples/example-geo-point-chart.gif',basemap_format={'source':contextily.providers.Stamen.Terrain})"
   ]
  },
  {
   "cell_type": "markdown",
   "metadata": {},
   "source": [
    "![Example Point GeoSpatialChart](examples/example-geo-point-chart.gif)"
   ]
  },
  {
   "cell_type": "markdown",
   "metadata": {},
   "source": [
    "##### Polygon GeoSpatial Charts\n",
    "\n",
    "Supports GeoDataFrames containing Polygons!"
   ]
  },
  {
   "cell_type": "code",
   "execution_count": null,
   "metadata": {},
   "outputs": [],
   "source": [
    "import geopandas\n",
    "import pandas_alive\n",
    "import contextily\n",
    "\n",
    "gdf = geopandas.read_file('data/italy-covid-region.gpkg')\n",
    "gdf.index = gdf.region\n",
    "gdf = gdf.drop('region',axis=1)\n",
    "\n",
    "map_chart = gdf.plot_animated(filename='examples/example-geo-polygon-chart.gif',basemap_format={'source':contextily.providers.Stamen.Terrain})"
   ]
  },
  {
   "cell_type": "markdown",
   "metadata": {},
   "source": [
    "![Example Polygon GeoSpatialChart](examples/example-geo-polygon-chart.gif)"
   ]
  },
  {
   "cell_type": "markdown",
   "metadata": {},
   "source": [
    "### Multiple Charts\n",
    "\n",
    "`pandas_alive` supports multiple animated charts in a single visualisation.\n",
    "\n",
    "- Create a list of all charts to include in animation\n",
    "- Use `animate_multiple_plots` with a `filename` and the list of charts (this will use `matplotlib.subplots`)\n",
    "- Done!"
   ]
  },
  {
   "cell_type": "code",
   "execution_count": 1,
   "metadata": {},
   "outputs": [
    {
     "name": "stdout",
     "output_type": "stream",
     "text": [
      "Generating LineChart, plotting ['Belgium', 'Brazil', 'Canada', 'China', 'France', 'Germany', 'India', 'Indonesia', 'Iran', 'Ireland', 'Italy', 'Mexico', 'Netherlands', 'Portugal', 'Spain', 'Sweden', 'Switzerland', 'Turkey', 'USA', 'United Kingdom']\n",
      "Generating BarChartRace, plotting ['Belgium', 'Brazil', 'Canada', 'China', 'France', 'Germany', 'India', 'Indonesia', 'Iran', 'Ireland', 'Italy', 'Mexico', 'Netherlands', 'Portugal', 'Spain', 'Sweden', 'Switzerland', 'Turkey', 'USA', 'United Kingdom']\n"
     ]
    },
    {
     "name": "stderr",
     "output_type": "stream",
     "text": [
      "D:\\GitHub\\pandas_alive\\pandas_alive\\_base_chart.py:284: UserWarning: Attempting to set identical bottom == top == 0.0 results in singular transformations; automatically expanding.\n",
      "  ax.set_ylim(\n"
     ]
    }
   ],
   "source": [
    "import pandas_alive\n",
    "\n",
    "covid_df = pandas_alive.load_dataset()\n",
    "\n",
    "animated_line_chart = covid_df.diff().fillna(0).plot_animated(kind='line',period_label=False)\n",
    "\n",
    "animated_bar_chart = covid_df.plot_animated(n_visible=10)\n",
    "\n",
    "pandas_alive.animate_multiple_plots('examples/example-bar-and-line-chart.gif',[animated_bar_chart,animated_line_chart])"
   ]
  },
  {
   "cell_type": "markdown",
   "metadata": {},
   "source": [
    "![Example Bar & Line Chart](examples/example-bar-and-line-chart.gif)"
   ]
  },
  {
   "cell_type": "markdown",
   "metadata": {},
   "source": [
    "#### Urban Population"
   ]
  },
  {
   "cell_type": "code",
   "execution_count": 3,
   "metadata": {},
   "outputs": [
    {
     "name": "stdout",
     "output_type": "stream",
     "text": [
      "Generating LineChart, plotting ['0']\n",
      "Generating BarChartRace, plotting ['United States', 'India', 'China', 'Ethiopia', 'Poland', 'Malaysia', 'Peru', 'Venezuela', 'Iraq', 'Saudi Arabia', 'Canada', 'Algeria', 'Ukraine', 'Vietnam', 'Thailand', 'Congo, Dem. Rep.', 'Spain', 'South Africa', 'Colombia', 'Argentina', 'Egypt', 'South Korea', 'Italy', 'Philippines', 'France', 'United Kingdom', 'Bangladesh', 'Iran', 'Turkey', 'Germany', 'Pakistan', 'Nigeria', 'Mexico', 'Russia', 'Japan', 'Indonesia', 'Brazil']\n"
     ]
    }
   ],
   "source": [
    "import pandas_alive\n",
    "\n",
    "urban_df = pandas_alive.load_dataset(\"urban_pop\")\n",
    "\n",
    "animated_line_chart = (\n",
    "    urban_df.sum(axis=1)\n",
    "    .pct_change()\n",
    "    .fillna(method='bfill')\n",
    "    .mul(100)\n",
    "    .plot_animated(kind=\"line\", title=\"Total % Change in Population\",period_label=False)\n",
    ")\n",
    "\n",
    "animated_bar_chart = urban_df.plot_animated(n_visible=10,title='Top 10 Populous Countries',period_fmt=\"%Y\")\n",
    "\n",
    "pandas_alive.animate_multiple_plots('examples/example-bar-and-line-urban-chart.gif',[animated_bar_chart,animated_line_chart],title='Urban Population 1977 - 2018',adjust_subplot_top=0.85)"
   ]
  },
  {
   "cell_type": "markdown",
   "metadata": {},
   "source": [
    "![Urban Population Bar & Line Chart](examples/example-bar-and-line-urban-chart.gif)\n"
   ]
  },
  {
   "cell_type": "markdown",
   "metadata": {},
   "source": [
    "#### Life Expectancy in G7 Countries"
   ]
  },
  {
   "cell_type": "code",
   "execution_count": null,
   "metadata": {},
   "outputs": [],
   "source": [
    "import pandas_alive\n",
    "import pandas as pd\n",
    "\n",
    "data_raw = pd.read_csv(\n",
    "    \"https://raw.githubusercontent.com/owid/owid-datasets/master/datasets/Long%20run%20life%20expectancy%20-%20Gapminder%2C%20UN/Long%20run%20life%20expectancy%20-%20Gapminder%2C%20UN.csv\"\n",
    ")\n",
    "\n",
    "list_G7 = [\n",
    "    \"Canada\",\n",
    "    \"France\",\n",
    "    \"Germany\",\n",
    "    \"Italy\",\n",
    "    \"Japan\",\n",
    "    \"United Kingdom\",\n",
    "    \"United States\",\n",
    "]\n",
    "\n",
    "data_raw = data_raw.pivot(\n",
    "    index=\"Year\", columns=\"Entity\", values=\"Life expectancy (Gapminder, UN)\"\n",
    ")\n",
    "\n",
    "data = pd.DataFrame()\n",
    "data[\"Year\"] = data_raw.reset_index()[\"Year\"]\n",
    "for country in list_G7:\n",
    "    data[country] = data_raw[country].values\n",
    "\n",
    "data = data.fillna(method=\"pad\")\n",
    "data = data.fillna(0)\n",
    "data = data.set_index(\"Year\").loc[1900:].reset_index()\n",
    "\n",
    "data[\"Year\"] = pd.to_datetime(data.reset_index()[\"Year\"].astype(str))\n",
    "\n",
    "data = data.set_index(\"Year\")\n",
    "\n",
    "animated_bar_chart = data.plot_animated(\n",
    "    period_fmt=\"%Y\",perpendicular_bar_func=\"mean\", period_length=200,fixed_max=True\n",
    ")\n",
    "\n",
    "animated_line_chart = data.plot_animated(\n",
    "    kind=\"line\", period_fmt=\"%Y\", period_length=200,fixed_max=True\n",
    ")\n",
    "\n",
    "pandas_alive.animate_multiple_plots(\n",
    "    \"examples/life-expectancy.gif\",\n",
    "    plots=[animated_bar_chart, animated_line_chart],\n",
    "    title=\"Life expectancy in G7 countries up to 2015\",\n",
    "    adjust_subplot_left=0.2,\n",
    ")\n"
   ]
  },
  {
   "cell_type": "markdown",
   "metadata": {},
   "source": [
    "![Life Expectancy Chart](examples/life-expectancy.gif)"
   ]
  },
  {
   "cell_type": "markdown",
   "metadata": {},
   "source": [
    "#### NSW COVID Visualisation"
   ]
  },
  {
   "cell_type": "code",
   "execution_count": null,
   "metadata": {},
   "outputs": [],
   "source": [
    "import geopandas\n",
    "import pandas as pd\n",
    "import pandas_alive\n",
    "import contextily\n",
    "import matplotlib.pyplot as plt\n",
    "\n",
    "import urllib.request, json\n",
    "\n",
    "with urllib.request.urlopen(\n",
    "    \"https://data.nsw.gov.au/data/api/3/action/package_show?id=aefcde60-3b0c-4bc0-9af1-6fe652944ec2\"\n",
    ") as url:\n",
    "    data = json.loads(url.read().decode())\n",
    "\n",
    "# Extract url to csv component\n",
    "covid_nsw_data_url = data[\"result\"][\"resources\"][0][\"url\"]\n",
    "\n",
    "# Read csv from data API url\n",
    "nsw_covid = pd.read_csv(covid_nsw_data_url)\n",
    "postcode_dataset = pd.read_csv(\"data/postcode-data.csv\")\n",
    "\n",
    "# Prepare data from NSW health dataset\n",
    "\n",
    "\n",
    "nsw_covid = nsw_covid.fillna(9999)\n",
    "nsw_covid[\"postcode\"] = nsw_covid[\"postcode\"].astype(int)\n",
    "\n",
    "grouped_df = nsw_covid.groupby([\"notification_date\", \"postcode\"]).size()\n",
    "grouped_df = pd.DataFrame(grouped_df).unstack()\n",
    "grouped_df.columns = grouped_df.columns.droplevel().astype(str)\n",
    "\n",
    "grouped_df = grouped_df.fillna(0)\n",
    "grouped_df.index = pd.to_datetime(grouped_df.index)\n",
    "\n",
    "cases_df = grouped_df\n",
    "\n",
    "# Clean data in postcode dataset prior to matching\n",
    "\n",
    "grouped_df = grouped_df.T\n",
    "postcode_dataset = postcode_dataset[postcode_dataset['Longitude'].notna()]\n",
    "postcode_dataset = postcode_dataset[postcode_dataset['Longitude'] != 0]\n",
    "postcode_dataset = postcode_dataset[postcode_dataset['Latitude'].notna()]\n",
    "postcode_dataset = postcode_dataset[postcode_dataset['Latitude'] != 0]\n",
    "postcode_dataset['Postcode'] = postcode_dataset['Postcode'].astype(str)\n",
    "\n",
    "# Build GeoDataFrame from Lat Long dataset and make map chart\n",
    "grouped_df['Longitude'] = grouped_df.index.map(postcode_dataset.set_index('Postcode')['Longitude'].to_dict())\n",
    "grouped_df['Latitude'] = grouped_df.index.map(postcode_dataset.set_index('Postcode')['Latitude'].to_dict())\n",
    "gdf = geopandas.GeoDataFrame(\n",
    "    grouped_df, geometry=geopandas.points_from_xy(grouped_df.Longitude, grouped_df.Latitude),crs=\"EPSG:4326\")\n",
    "gdf = gdf.dropna()\n",
    "\n",
    "# Prepare GeoDataFrame for writing to geopackage\n",
    "gdf = gdf.drop(['Longitude','Latitude'],axis=1)\n",
    "gdf.columns = gdf.columns.astype(str)\n",
    "gdf['postcode'] = gdf.index\n",
    "gdf.to_file(\"data/nsw-covid19-cases-by-postcode.gpkg\", layer='nsw-postcode-covid', driver=\"GPKG\")\n",
    "\n",
    "# Prepare GeoDataFrame for plotting\n",
    "gdf.index = gdf.postcode\n",
    "gdf = gdf.drop('postcode',axis=1)\n",
    "gdf = gdf.to_crs(\"EPSG:3857\") #Web Mercator\n",
    "\n",
    "map_chart = gdf.plot_animated(basemap_format={'source':contextily.providers.Stamen.Terrain},cmap='cool')\n",
    "\n",
    "cases_df.to_csv('data/nsw-covid-cases-by-postcode.csv')\n",
    "\n",
    "from datetime import datetime\n",
    "\n",
    "bar_chart = cases_df.sum(axis=1).plot_animated(\n",
    "    kind='line',\n",
    "    label_events={\n",
    "        'Ruby Princess Disembark':datetime.strptime(\"19/03/2020\", \"%d/%m/%Y\"),\n",
    "        'Lockdown':datetime.strptime(\"31/03/2020\", \"%d/%m/%Y\")\n",
    "    },\n",
    "    fill_under_line_color=\"blue\",\n",
    "    enable_progress_bar=True\n",
    ")\n",
    "\n",
    "map_chart.ax.set_title('Cases by Location')\n",
    "\n",
    "grouped_df = pd.read_csv('data/nsw-covid-cases-by-postcode.csv', index_col=0, parse_dates=[0])\n",
    "\n",
    "line_chart = (\n",
    "    grouped_df.sum(axis=1)\n",
    "    .cumsum()\n",
    "    .fillna(0)\n",
    "    .plot_animated(kind=\"line\", period_label=False, title=\"Cumulative Total Cases\")\n",
    ")\n",
    "\n",
    "\n",
    "def current_total(values):\n",
    "    total = values.sum()\n",
    "    s = f'Total : {int(total)}'\n",
    "    return {'x': .85, 'y': .2, 's': s, 'ha': 'right', 'size': 11}\n",
    "\n",
    "race_chart = grouped_df.cumsum().plot_animated(\n",
    "    n_visible=5, title=\"Cases by Postcode\", period_label=False,period_summary_func=current_total\n",
    ")\n",
    "\n",
    "import time\n",
    "\n",
    "timestr = time.strftime(\"%d/%m/%Y\")\n",
    "\n",
    "plots = [bar_chart, line_chart, map_chart, race_chart]\n",
    "\n",
    "from matplotlib import rcParams\n",
    "\n",
    "rcParams.update({\"figure.autolayout\": False})\n",
    "\n",
    "figs = plt.figure()\n",
    "gs = figs.add_gridspec(2, 3, hspace=0.5)\n",
    "f3_ax1 = figs.add_subplot(gs[0, :])\n",
    "f3_ax1.set_title(bar_chart.title)\n",
    "bar_chart.ax = f3_ax1\n",
    "\n",
    "f3_ax2 = figs.add_subplot(gs[1, 0])\n",
    "f3_ax2.set_title(line_chart.title)\n",
    "line_chart.ax = f3_ax2\n",
    "\n",
    "f3_ax3 = figs.add_subplot(gs[1, 1])\n",
    "f3_ax3.set_title(map_chart.title)\n",
    "map_chart.ax = f3_ax3\n",
    "\n",
    "f3_ax4 = figs.add_subplot(gs[1, 2])\n",
    "f3_ax4.set_title(race_chart.title)\n",
    "race_chart.ax = f3_ax4\n",
    "\n",
    "timestr = cases_df.index.max().strftime(\"%d/%m/%Y\")\n",
    "figs.suptitle(f\"NSW COVID-19 Confirmed Cases up to {timestr}\")\n",
    "\n",
    "pandas_alive.animate_multiple_plots(\n",
    "    'examples/nsw-covid.gif',\n",
    "    plots,\n",
    "    figs\n",
    ")"
   ]
  },
  {
   "cell_type": "markdown",
   "metadata": {},
   "source": [
    "![NSW COVID](examples/nsw-covid.gif)"
   ]
  },
  {
   "cell_type": "markdown",
   "metadata": {},
   "source": [
    "#### Italy COVID Visualisation"
   ]
  },
  {
   "cell_type": "code",
   "execution_count": null,
   "metadata": {},
   "outputs": [],
   "source": [
    "import geopandas\n",
    "import pandas as pd\n",
    "import pandas_alive\n",
    "import contextily\n",
    "import matplotlib.pyplot as plt\n",
    "\n",
    "\n",
    "region_gdf = geopandas.read_file('data\\geo-data\\italy-with-regions')\n",
    "region_gdf.NOME_REG = region_gdf.NOME_REG.str.lower().str.title()\n",
    "region_gdf = region_gdf.replace('Trentino-Alto Adige/Sudtirol','Trentino-Alto Adige')\n",
    "region_gdf = region_gdf.replace(\"Valle D'Aosta/VallÃ©e D'Aoste\\r\\nValle D'Aosta/VallÃ©e D'Aoste\",\"Valle d'Aosta\")\n",
    "\n",
    "italy_df = pd.read_csv('data\\Regional Data - Sheet1.csv',index_col=0,header=1,parse_dates=[0])\n",
    "\n",
    "italy_df = italy_df[italy_df['Region'] != 'NA']\n",
    "\n",
    "cases_df = italy_df.iloc[:,:3]\n",
    "cases_df['Date'] = cases_df.index\n",
    "pivoted = cases_df.pivot(values='New positives',index='Date',columns='Region')\n",
    "pivoted.columns = pivoted.columns.astype(str)\n",
    "pivoted = pivoted.rename(columns={'nan':'Unknown Region'})\n",
    "\n",
    "cases_gdf = pivoted.T\n",
    "cases_gdf['geometry'] = cases_gdf.index.map(region_gdf.set_index('NOME_REG')['geometry'].to_dict())\n",
    "\n",
    "cases_gdf = cases_gdf[cases_gdf['geometry'].notna()]\n",
    "\n",
    "cases_gdf = geopandas.GeoDataFrame(cases_gdf, crs=region_gdf.crs, geometry=cases_gdf.geometry)\n",
    "\n",
    "gdf = cases_gdf\n",
    "\n",
    "map_chart = gdf.plot_animated(basemap_format={'source':contextily.providers.Stamen.Terrain},cmap='viridis')\n",
    "\n",
    "cases_df = pivoted\n",
    "\n",
    "from datetime import datetime\n",
    "\n",
    "bar_chart = cases_df.sum(axis=1).plot_animated(\n",
    "    kind='line',\n",
    "    label_events={\n",
    "        'Schools Close':datetime.strptime(\"4/03/2020\", \"%d/%m/%Y\"),\n",
    "        'Phase I Lockdown':datetime.strptime(\"11/03/2020\", \"%d/%m/%Y\"),\n",
    "        '1M Global Cases':datetime.strptime(\"02/04/2020\", \"%d/%m/%Y\"),\n",
    "        '100k Global Deaths':datetime.strptime(\"10/04/2020\", \"%d/%m/%Y\"),\n",
    "        'Manufacturing Reopens':datetime.strptime(\"26/04/2020\", \"%d/%m/%Y\"),\n",
    "        'Phase II Lockdown':datetime.strptime(\"4/05/2020\", \"%d/%m/%Y\"),\n",
    "\n",
    "    },\n",
    "    fill_under_line_color=\"blue\",\n",
    "    enable_progress_bar=True\n",
    ")\n",
    "\n",
    "map_chart.ax.set_title('Cases by Location')\n",
    "\n",
    "line_chart = (\n",
    "    cases_df.sum(axis=1)\n",
    "    .cumsum()\n",
    "    .fillna(0)\n",
    "    .plot_animated(kind=\"line\", period_label=False, title=\"Cumulative Total Cases\")\n",
    ")\n",
    "\n",
    "\n",
    "def current_total(values):\n",
    "    total = values.sum()\n",
    "    s = f'Total : {int(total)}'\n",
    "    return {'x': .85, 'y': .2, 's': s, 'ha': 'right', 'size': 11}\n",
    "\n",
    "race_chart = cases_df.cumsum().plot_animated(\n",
    "    n_visible=5, title=\"Cases by Region\", period_label=False,period_summary_func=current_total\n",
    ")\n",
    "\n",
    "import time\n",
    "\n",
    "timestr = time.strftime(\"%d/%m/%Y\")\n",
    "\n",
    "plots = [bar_chart, race_chart, map_chart, line_chart]\n",
    "\n",
    "# Otherwise titles overlap and adjust_subplot does nothing\n",
    "from matplotlib import rcParams\n",
    "from matplotlib.animation import FuncAnimation\n",
    "\n",
    "rcParams.update({\"figure.autolayout\": False})\n",
    "\n",
    "figs = plt.figure()\n",
    "gs = figs.add_gridspec(2, 3, hspace=0.5)\n",
    "f3_ax1 = figs.add_subplot(gs[0, :])\n",
    "f3_ax1.set_title(bar_chart.title)\n",
    "bar_chart.ax = f3_ax1\n",
    "\n",
    "f3_ax2 = figs.add_subplot(gs[1, 0])\n",
    "f3_ax2.set_title(race_chart.title)\n",
    "race_chart.ax = f3_ax2\n",
    "\n",
    "f3_ax3 = figs.add_subplot(gs[1, 1])\n",
    "f3_ax3.set_title(map_chart.title)\n",
    "map_chart.ax = f3_ax3\n",
    "\n",
    "f3_ax4 = figs.add_subplot(gs[1, 2])\n",
    "f3_ax4.set_title(line_chart.title)\n",
    "line_chart.ax = f3_ax4\n",
    "\n",
    "axes = [f3_ax1, f3_ax2, f3_ax3, f3_ax4]\n",
    "timestr = cases_df.index.max().strftime(\"%d/%m/%Y\")\n",
    "figs.suptitle(f\"Italy COVID-19 Confirmed Cases up to {timestr}\")\n",
    "\n",
    "pandas_alive.animate_multiple_plots(\n",
    "    'examples/italy-covid.gif',\n",
    "    plots,\n",
    "    figs\n",
    ")"
   ]
  },
  {
   "cell_type": "markdown",
   "metadata": {},
   "source": [
    "![Italy COVID](examples/italy-covid.gif)"
   ]
  },
  {
   "cell_type": "markdown",
   "metadata": {},
   "source": [
    "### HTML 5 Videos\n",
    "\n",
    "`Pandas_Alive` supports rendering HTML5 videos through the use of `df.plot_animated().get_html5_video()`. `.get_html5_video` saves the animation as an h264 video, encoded in base64 directly into the HTML5 video tag. This respects the rc parameters for the writer as well as the bitrate. This also makes use of the interval to control the speed, and uses the repeat parameter to decide whether to loop.\n",
    "\n",
    "This is typically used in Jupyter notebooks."
   ]
  },
  {
   "cell_type": "code",
   "execution_count": null,
   "metadata": {},
   "outputs": [],
   "source": [
    "import pandas_alive\n",
    "from IPython.display import HTML\n",
    "\n",
    "covid_df = pandas_alive.load_dataset()\n",
    "\n",
    "animated_html = covid_df.plot_animated().get_html5_video()\n",
    "\n",
    "HTML(animated_html)"
   ]
  },
  {
   "cell_type": "markdown",
   "metadata": {},
   "source": [
    "### Progress Bars!\n",
    "\n",
    "Generating animations can take some time, so enable progress bars by installing [tqdm](https://github.com/tqdm/tqdm) with `pip install tqdm` and using the keyword `enable_progress_bar=True`.\n",
    "\n",
    "By default Pandas_Alive will create a `tqdm` progress bar for the number of frames to animate, and update the progres bar after each frame."
   ]
  },
  {
   "cell_type": "code",
   "execution_count": null,
   "metadata": {},
   "outputs": [],
   "source": [
    "import pandas_alive\n",
    "\n",
    "covid_df = pandas_alive.load_dataset()\n",
    "\n",
    "covid_df.plot_animated(enable_progress_bar=True)"
   ]
  },
  {
   "cell_type": "markdown",
   "metadata": {},
   "source": [
    "Example of TQDM in action:\n",
    "\n",
    "![TQDM Example](https://raw.githubusercontent.com/tqdm/tqdm/master/images/tqdm.gif)"
   ]
  },
  {
   "cell_type": "markdown",
   "metadata": {},
   "source": [
    "## Future Features\n",
    "\n",
    "A list of future features that may/may not be developed is:\n",
    "\n",
    "- ~~Geographic charts (currently using OSM export image, potential [geopandas](https://geopandas.org/))~~\n",
    "- ~~Loading bar support (potential [tqdm](https://github.com/tqdm/tqdm) or [alive-progress](https://github.com/rsalmei/alive-progress))~~\n",
    "- ~~Potentially support writing to GIF in memory with <https://github.com/maxhumber/gif>~~\n",
    "- ~~Support custom figures & axes for multiple plots (eg, gridspec)~~"
   ]
  },
  {
   "cell_type": "markdown",
   "metadata": {},
   "source": [
    "## Tutorials\n",
    "\n",
    "Find tutorials on how to use `Pandas_Alive` over at:\n",
    "\n",
    "- <https://jackmckew.dev/creating-animated-plots-with-pandas_alive.html>\n",
    "- <https://jackmckew.dev/geopandas-and-pandas-alive.html>\n",
    "\n",
    "## Inspiration\n",
    "\n",
    "The inspiration for this project comes from:\n",
    "\n",
    "- [bar_chart_race](https://github.com/dexplo/bar_chart_race) by [Ted Petrou](https://github.com/tdpetrou)\n",
    "- [Pandas-Bokeh](https://github.com/PatrikHlobil/Pandas-Bokeh) by [Patrik Hlobil](https://github.com/PatrikHlobil)\n",
    "\n",
    "## Requirements\n",
    "\n",
    "If you get an error such as `TypeError: 'MovieWriterRegistry' object is not an iterator`, this signals there isn't a writer library installed on your machine.\n",
    "\n",
    "This package utilises the [matplotlib.animation function](https://matplotlib.org/3.2.1/api/animation_api.html), thus requiring a writer library.\n",
    "\n",
    "Ensure to have one of the supported tooling software installed prior to use!\n",
    "\n",
    "- [ffmpeg](https://ffmpeg.org/)\n",
    "- [ImageMagick](https://imagemagick.org/index.php)\n",
    "- See more at <https://matplotlib.org/3.2.1/api/animation_api.html#writer-classes>\n",
    "\n",
    "> If the output file name has an extension of `.gif`, `pandas_alive` will write this with `PIL` in memory\n",
    "\n",
    "## Documentation\n",
    "\n",
    "Documentation is provided at <https://jackmckew.github.io/pandas_alive/>\n",
    "\n",
    "## Contributing\n",
    "\n",
    "Pull requests are welcome! Please help to cover more and more chart types!\n",
    "\n",
    "### Development\n",
    "\n",
    "To get started in development, clone a copy of this repository to your PC. This will now enable you to create a Jupyter notebook or a standalone `.py` file, and import `pandas_alive` as a local module. Now you can create new chart types in `pandas_alive/charts.py` or `pandas_alive/geocharts.py` to build to your hearts content!"
   ]
  },
  {
   "cell_type": "markdown",
   "metadata": {},
   "source": [
    "## [Changelog](CHANGELOG.md)"
   ]
  }
 ],
 "metadata": {
  "hide_input": false,
  "kernelspec": {
   "display_name": "Python 3",
   "language": "python",
   "name": "python3"
  },
  "language_info": {
   "codemirror_mode": {
    "name": "ipython",
    "version": 3
   },
   "file_extension": ".py",
   "mimetype": "text/x-python",
   "name": "python",
   "nbconvert_exporter": "python",
   "pygments_lexer": "ipython3",
   "version": "3.8.5"
  }
 },
 "nbformat": 4,
 "nbformat_minor": 4
}
